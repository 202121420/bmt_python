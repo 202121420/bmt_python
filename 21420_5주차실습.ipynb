{
  "nbformat": 4,
  "nbformat_minor": 0,
  "metadata": {
    "colab": {
      "name": "21420_5주차실습.ipynb",
      "provenance": [],
      "collapsed_sections": [],
      "authorship_tag": "ABX9TyMmGkbyAFEDoaCEaRxLvSXO",
      "include_colab_link": true
    },
    "kernelspec": {
      "name": "python3",
      "display_name": "Python 3"
    },
    "language_info": {
      "name": "python"
    }
  },
  "cells": [
    {
      "cell_type": "markdown",
      "metadata": {
        "id": "view-in-github",
        "colab_type": "text"
      },
      "source": [
        "<a href=\"https://colab.research.google.com/github/202121420/bmt_python/blob/main/21420_5%EC%A3%BC%EC%B0%A8%EC%8B%A4%EC%8A%B5.ipynb\" target=\"_parent\"><img src=\"https://colab.research.google.com/assets/colab-badge.svg\" alt=\"Open In Colab\"/></a>"
      ]
    },
    {
      "cell_type": "code",
      "metadata": {
        "id": "U-Jd7Qp8QGIy"
      },
      "source": [
        "tp = (10, 20, 30)"
      ],
      "execution_count": null,
      "outputs": []
    },
    {
      "cell_type": "code",
      "metadata": {
        "colab": {
          "base_uri": "https://localhost:8080/"
        },
        "id": "aQvbLLvvRqhA",
        "outputId": "7b401c9e-ee27-4730-e73b-2f84be4291cc"
      },
      "source": [
        "tp[:2]"
      ],
      "execution_count": null,
      "outputs": [
        {
          "output_type": "execute_result",
          "data": {
            "text/plain": [
              "(10, 20)"
            ]
          },
          "metadata": {
            "tags": []
          },
          "execution_count": 6
        }
      ]
    },
    {
      "cell_type": "code",
      "metadata": {
        "id": "FognniU4RuM0"
      },
      "source": [
        "tp1 = (10, 20)\n",
        "tp2 = (30, 40)"
      ],
      "execution_count": null,
      "outputs": []
    },
    {
      "cell_type": "code",
      "metadata": {
        "colab": {
          "base_uri": "https://localhost:8080/"
        },
        "id": "8YcQY4XYSfpe",
        "outputId": "eb7a45f9-df12-453f-8c88-c3f9589225f5"
      },
      "source": [
        "tp1\n"
      ],
      "execution_count": null,
      "outputs": [
        {
          "output_type": "execute_result",
          "data": {
            "text/plain": [
              "(10, 20)"
            ]
          },
          "metadata": {
            "tags": []
          },
          "execution_count": 8
        }
      ]
    },
    {
      "cell_type": "code",
      "metadata": {
        "colab": {
          "base_uri": "https://localhost:8080/"
        },
        "id": "nmGSxUPqSg0S",
        "outputId": "3ac3a5d5-3801-4e0b-cbf6-629ca034c370"
      },
      "source": [
        "tp2"
      ],
      "execution_count": null,
      "outputs": [
        {
          "output_type": "execute_result",
          "data": {
            "text/plain": [
              "(30, 40)"
            ]
          },
          "metadata": {
            "tags": []
          },
          "execution_count": 9
        }
      ]
    },
    {
      "cell_type": "code",
      "metadata": {
        "id": "EFuHS13sShWq"
      },
      "source": [
        "tp3 = tp2 + tp1"
      ],
      "execution_count": null,
      "outputs": []
    },
    {
      "cell_type": "code",
      "metadata": {
        "colab": {
          "base_uri": "https://localhost:8080/"
        },
        "id": "G13TTJA_Skjh",
        "outputId": "467fe7b8-7ca2-4987-e092-6dfe6c7cb6ac"
      },
      "source": [
        "tp3"
      ],
      "execution_count": null,
      "outputs": [
        {
          "output_type": "execute_result",
          "data": {
            "text/plain": [
              "(30, 40, 10, 20)"
            ]
          },
          "metadata": {
            "tags": []
          },
          "execution_count": 14
        }
      ]
    },
    {
      "cell_type": "code",
      "metadata": {
        "id": "9-atqS9zSmlq"
      },
      "source": [
        "tp4 = tp3 * 2"
      ],
      "execution_count": null,
      "outputs": []
    },
    {
      "cell_type": "code",
      "metadata": {
        "colab": {
          "base_uri": "https://localhost:8080/"
        },
        "id": "TZ1j9qC5Sz1J",
        "outputId": "2c896b0b-227b-44a3-8ed2-a79c234e6bff"
      },
      "source": [
        "tp4"
      ],
      "execution_count": null,
      "outputs": [
        {
          "output_type": "execute_result",
          "data": {
            "text/plain": [
              "(30, 40, 10, 20, 30, 40, 10, 20)"
            ]
          },
          "metadata": {
            "tags": []
          },
          "execution_count": 16
        }
      ]
    },
    {
      "cell_type": "code",
      "metadata": {
        "id": "J_KiOntUS0Ol"
      },
      "source": [
        "tpx, tpy = (10, 20)\n"
      ],
      "execution_count": null,
      "outputs": []
    },
    {
      "cell_type": "code",
      "metadata": {
        "colab": {
          "base_uri": "https://localhost:8080/"
        },
        "id": "qr4TsWtmTAr5",
        "outputId": "57f166b5-43bb-436a-b446-a628a30c2e01"
      },
      "source": [
        "tpx"
      ],
      "execution_count": null,
      "outputs": [
        {
          "output_type": "execute_result",
          "data": {
            "text/plain": [
              "10"
            ]
          },
          "metadata": {
            "tags": []
          },
          "execution_count": 18
        }
      ]
    },
    {
      "cell_type": "code",
      "metadata": {
        "colab": {
          "base_uri": "https://localhost:8080/"
        },
        "id": "iq08qkZDTCCk",
        "outputId": "c06ad586-c7ed-4f54-80dc-b00eb6377945"
      },
      "source": [
        "tpy"
      ],
      "execution_count": null,
      "outputs": [
        {
          "output_type": "execute_result",
          "data": {
            "text/plain": [
              "20"
            ]
          },
          "metadata": {
            "tags": []
          },
          "execution_count": 19
        }
      ]
    },
    {
      "cell_type": "code",
      "metadata": {
        "id": "9EdUFoVuTCvl"
      },
      "source": [
        "tp = (10, 20, 30)"
      ],
      "execution_count": null,
      "outputs": []
    },
    {
      "cell_type": "code",
      "metadata": {
        "colab": {
          "base_uri": "https://localhost:8080/"
        },
        "id": "ICOqts-rTMYC",
        "outputId": "2e28ab7d-63f1-40e1-af07-67575b03d287"
      },
      "source": [
        "tp"
      ],
      "execution_count": null,
      "outputs": [
        {
          "output_type": "execute_result",
          "data": {
            "text/plain": [
              "(10, 20, 30)"
            ]
          },
          "metadata": {
            "tags": []
          },
          "execution_count": 21
        }
      ]
    },
    {
      "cell_type": "code",
      "metadata": {
        "colab": {
          "base_uri": "https://localhost:8080/",
          "height": 176
        },
        "id": "zXWEtb4rTM0P",
        "outputId": "8f51d27a-d0ad-481c-dbf2-33432accc0df"
      },
      "source": [
        "tp[0] = 100"
      ],
      "execution_count": null,
      "outputs": [
        {
          "output_type": "error",
          "ename": "TypeError",
          "evalue": "ignored",
          "traceback": [
            "\u001b[0;31m---------------------------------------------------------------------------\u001b[0m",
            "\u001b[0;31mTypeError\u001b[0m                                 Traceback (most recent call last)",
            "\u001b[0;32m<ipython-input-23-302511da1ebd>\u001b[0m in \u001b[0;36m<module>\u001b[0;34m()\u001b[0m\n\u001b[0;32m----> 1\u001b[0;31m \u001b[0mtp\u001b[0m\u001b[0;34m[\u001b[0m\u001b[0;36m0\u001b[0m\u001b[0;34m]\u001b[0m \u001b[0;34m=\u001b[0m \u001b[0;36m100\u001b[0m\u001b[0;34m\u001b[0m\u001b[0;34m\u001b[0m\u001b[0m\n\u001b[0m",
            "\u001b[0;31mTypeError\u001b[0m: 'tuple' object does not support item assignment"
          ]
        }
      ]
    },
    {
      "cell_type": "code",
      "metadata": {
        "id": "i6vh2ImPTQr6"
      },
      "source": [
        "dt = {\n",
        "    'a' : 200,\n",
        "    'b' : 150,\n",
        "    'c' : 100\n",
        "}"
      ],
      "execution_count": null,
      "outputs": []
    },
    {
      "cell_type": "code",
      "metadata": {
        "colab": {
          "base_uri": "https://localhost:8080/"
        },
        "id": "nWN1DEfAUflj",
        "outputId": "882b9607-6487-4ae7-c56c-d6286fb779c2"
      },
      "source": [
        "dt"
      ],
      "execution_count": null,
      "outputs": [
        {
          "output_type": "execute_result",
          "data": {
            "text/plain": [
              "{'a': 200, 'b': 150, 'c': 100}"
            ]
          },
          "metadata": {
            "tags": []
          },
          "execution_count": 25
        }
      ]
    },
    {
      "cell_type": "code",
      "metadata": {
        "colab": {
          "base_uri": "https://localhost:8080/"
        },
        "id": "_P8T4P7MUhe_",
        "outputId": "53f78542-413a-42de-eb39-c036e621213e"
      },
      "source": [
        "dt.keys()"
      ],
      "execution_count": null,
      "outputs": [
        {
          "output_type": "execute_result",
          "data": {
            "text/plain": [
              "dict_keys(['a', 'b', 'c'])"
            ]
          },
          "metadata": {
            "tags": []
          },
          "execution_count": 26
        }
      ]
    },
    {
      "cell_type": "code",
      "metadata": {
        "colab": {
          "base_uri": "https://localhost:8080/"
        },
        "id": "H9YURAnIUx2A",
        "outputId": "4ad52837-9146-40c9-8149-332208693614"
      },
      "source": [
        "list(dt.keys())"
      ],
      "execution_count": null,
      "outputs": [
        {
          "output_type": "execute_result",
          "data": {
            "text/plain": [
              "['a', 'b', 'c']"
            ]
          },
          "metadata": {
            "tags": []
          },
          "execution_count": 27
        }
      ]
    },
    {
      "cell_type": "code",
      "metadata": {
        "colab": {
          "base_uri": "https://localhost:8080/"
        },
        "id": "2owbHWKbU5bv",
        "outputId": "a69fa6ff-1156-4cb0-96a2-fe6384b6e7a7"
      },
      "source": [
        "dt.values()"
      ],
      "execution_count": null,
      "outputs": [
        {
          "output_type": "execute_result",
          "data": {
            "text/plain": [
              "dict_values([200, 150, 100])"
            ]
          },
          "metadata": {
            "tags": []
          },
          "execution_count": 28
        }
      ]
    },
    {
      "cell_type": "code",
      "metadata": {
        "colab": {
          "base_uri": "https://localhost:8080/"
        },
        "id": "08KlX4mmVJBY",
        "outputId": "27c4fbc0-ecce-4773-d98a-eede9063e25b"
      },
      "source": [
        "list(dt.values())"
      ],
      "execution_count": null,
      "outputs": [
        {
          "output_type": "execute_result",
          "data": {
            "text/plain": [
              "[200, 150, 100]"
            ]
          },
          "metadata": {
            "tags": []
          },
          "execution_count": 29
        }
      ]
    },
    {
      "cell_type": "code",
      "metadata": {
        "colab": {
          "base_uri": "https://localhost:8080/"
        },
        "id": "9dbO62rEVORo",
        "outputId": "4fdb6bb2-f9ab-47eb-b5e8-e40e1d34fde3"
      },
      "source": [
        "dt"
      ],
      "execution_count": null,
      "outputs": [
        {
          "output_type": "execute_result",
          "data": {
            "text/plain": [
              "{'a': 200, 'b': 150, 'c': 100}"
            ]
          },
          "metadata": {
            "tags": []
          },
          "execution_count": 30
        }
      ]
    },
    {
      "cell_type": "code",
      "metadata": {
        "colab": {
          "base_uri": "https://localhost:8080/"
        },
        "id": "CWW82M4OVTWV",
        "outputId": "122156e3-3442-4c88-e25f-7648d9191ad0"
      },
      "source": [
        "dt['a']"
      ],
      "execution_count": null,
      "outputs": [
        {
          "output_type": "execute_result",
          "data": {
            "text/plain": [
              "200"
            ]
          },
          "metadata": {
            "tags": []
          },
          "execution_count": 31
        }
      ]
    },
    {
      "cell_type": "code",
      "metadata": {
        "id": "kQQLn6bzVZMQ"
      },
      "source": [
        "dt['d'] = 30"
      ],
      "execution_count": null,
      "outputs": []
    },
    {
      "cell_type": "code",
      "metadata": {
        "colab": {
          "base_uri": "https://localhost:8080/"
        },
        "id": "AWjUJx1EVmKr",
        "outputId": "04073529-f6bf-4fd0-d710-ce723ebb9cbb"
      },
      "source": [
        "dt"
      ],
      "execution_count": null,
      "outputs": [
        {
          "output_type": "execute_result",
          "data": {
            "text/plain": [
              "{'a': 200, 'b': 150, 'c': 100, 'd': 30}"
            ]
          },
          "metadata": {
            "tags": []
          },
          "execution_count": 33
        }
      ]
    },
    {
      "cell_type": "code",
      "metadata": {
        "id": "_xJJbPZuVnAZ"
      },
      "source": [
        "del dt['b']"
      ],
      "execution_count": null,
      "outputs": []
    },
    {
      "cell_type": "code",
      "metadata": {
        "colab": {
          "base_uri": "https://localhost:8080/"
        },
        "id": "7sBdI3HPVtea",
        "outputId": "724f891d-271d-47d1-da13-ca8ddaf80cc3"
      },
      "source": [
        "dt"
      ],
      "execution_count": null,
      "outputs": [
        {
          "output_type": "execute_result",
          "data": {
            "text/plain": [
              "{'a': 200, 'c': 100, 'd': 30}"
            ]
          },
          "metadata": {
            "tags": []
          },
          "execution_count": 35
        }
      ]
    },
    {
      "cell_type": "code",
      "metadata": {
        "id": "NEZ1W9E3VuOl"
      },
      "source": [
        "a = (1, 2, 2, 3)\n",
        "b = [10, 20, 30, 30]"
      ],
      "execution_count": null,
      "outputs": []
    },
    {
      "cell_type": "code",
      "metadata": {
        "colab": {
          "base_uri": "https://localhost:8080/"
        },
        "id": "_oQeBwGGWvXE",
        "outputId": "3b1264a4-d41c-4fed-b7ca-dbd96a600894"
      },
      "source": [
        "a"
      ],
      "execution_count": null,
      "outputs": [
        {
          "output_type": "execute_result",
          "data": {
            "text/plain": [
              "(1, 2, 2, 3)"
            ]
          },
          "metadata": {
            "tags": []
          },
          "execution_count": 37
        }
      ]
    },
    {
      "cell_type": "code",
      "metadata": {
        "colab": {
          "base_uri": "https://localhost:8080/"
        },
        "id": "x_FLch-KWvsS",
        "outputId": "8a7b5956-241b-4af0-bafb-29cb11233dc1"
      },
      "source": [
        "b"
      ],
      "execution_count": null,
      "outputs": [
        {
          "output_type": "execute_result",
          "data": {
            "text/plain": [
              "[10, 20, 30, 30]"
            ]
          },
          "metadata": {
            "tags": []
          },
          "execution_count": 40
        }
      ]
    },
    {
      "cell_type": "code",
      "metadata": {
        "id": "UW0i4YeUWwB2"
      },
      "source": [
        "c = set(a)"
      ],
      "execution_count": null,
      "outputs": []
    },
    {
      "cell_type": "code",
      "metadata": {
        "colab": {
          "base_uri": "https://localhost:8080/"
        },
        "id": "NAKmoun1W9Ys",
        "outputId": "60845add-5e36-48ab-d19c-653e73f9c098"
      },
      "source": [
        "c"
      ],
      "execution_count": null,
      "outputs": [
        {
          "output_type": "execute_result",
          "data": {
            "text/plain": [
              "{1, 2, 3}"
            ]
          },
          "metadata": {
            "tags": []
          },
          "execution_count": 42
        }
      ]
    },
    {
      "cell_type": "code",
      "metadata": {
        "id": "D2HSmBwJW-TE"
      },
      "source": [
        "d = set(b)\n"
      ],
      "execution_count": null,
      "outputs": []
    },
    {
      "cell_type": "code",
      "metadata": {
        "colab": {
          "base_uri": "https://localhost:8080/"
        },
        "id": "HT88QGKxXUeb",
        "outputId": "8a3d362a-3e6a-4d1e-dbae-0403095521f3"
      },
      "source": [
        "d"
      ],
      "execution_count": null,
      "outputs": [
        {
          "output_type": "execute_result",
          "data": {
            "text/plain": [
              "{10, 20, 30}"
            ]
          },
          "metadata": {
            "tags": []
          },
          "execution_count": 44
        }
      ]
    },
    {
      "cell_type": "code",
      "metadata": {
        "colab": {
          "base_uri": "https://localhost:8080/"
        },
        "id": "VWKQccUBXUuT",
        "outputId": "2a0e763b-0e24-4251-f2cc-b8997aacd92b"
      },
      "source": [
        "b"
      ],
      "execution_count": null,
      "outputs": [
        {
          "output_type": "execute_result",
          "data": {
            "text/plain": [
              "[10, 20, 30, 30]"
            ]
          },
          "metadata": {
            "tags": []
          },
          "execution_count": 45
        }
      ]
    },
    {
      "cell_type": "code",
      "metadata": {
        "id": "Jaf5pmuNXWYE"
      },
      "source": [
        "a = set(a)\n",
        "b = set(b)"
      ],
      "execution_count": null,
      "outputs": []
    },
    {
      "cell_type": "code",
      "metadata": {
        "colab": {
          "base_uri": "https://localhost:8080/"
        },
        "id": "UpXfep1dXkPx",
        "outputId": "cdb3e412-0cac-47c8-d3d3-bc00e41356b2"
      },
      "source": [
        "a"
      ],
      "execution_count": null,
      "outputs": [
        {
          "output_type": "execute_result",
          "data": {
            "text/plain": [
              "{1, 2, 3}"
            ]
          },
          "metadata": {
            "tags": []
          },
          "execution_count": 48
        }
      ]
    },
    {
      "cell_type": "code",
      "metadata": {
        "colab": {
          "base_uri": "https://localhost:8080/"
        },
        "id": "_Ob0_18YXqvv",
        "outputId": "6088aef6-f50f-4912-dd21-a8b8f58534fe"
      },
      "source": [
        "b"
      ],
      "execution_count": null,
      "outputs": [
        {
          "output_type": "execute_result",
          "data": {
            "text/plain": [
              "{10, 20, 30}"
            ]
          },
          "metadata": {
            "tags": []
          },
          "execution_count": 49
        }
      ]
    },
    {
      "cell_type": "code",
      "metadata": {
        "id": "eh7wjUf-XrIh"
      },
      "source": [
        "a.add(100)"
      ],
      "execution_count": null,
      "outputs": []
    },
    {
      "cell_type": "code",
      "metadata": {
        "colab": {
          "base_uri": "https://localhost:8080/"
        },
        "id": "gZwWSHbZXvkn",
        "outputId": "3644c0f9-4b2c-411e-ca1e-840fe98acb93"
      },
      "source": [
        "a\n"
      ],
      "execution_count": null,
      "outputs": [
        {
          "output_type": "execute_result",
          "data": {
            "text/plain": [
              "{1, 2, 3, 100}"
            ]
          },
          "metadata": {
            "tags": []
          },
          "execution_count": 51
        }
      ]
    },
    {
      "cell_type": "code",
      "metadata": {
        "id": "i8mbEqTxXwfK"
      },
      "source": [
        "a.add(1)"
      ],
      "execution_count": null,
      "outputs": []
    },
    {
      "cell_type": "code",
      "metadata": {
        "colab": {
          "base_uri": "https://localhost:8080/"
        },
        "id": "_CrFYkR-XzGW",
        "outputId": "83110b61-0559-4e1a-8e87-f21b6a4a7296"
      },
      "source": [
        "a"
      ],
      "execution_count": null,
      "outputs": [
        {
          "output_type": "execute_result",
          "data": {
            "text/plain": [
              "{1, 2, 3, 100}"
            ]
          },
          "metadata": {
            "tags": []
          },
          "execution_count": 53
        }
      ]
    },
    {
      "cell_type": "code",
      "metadata": {
        "colab": {
          "base_uri": "https://localhost:8080/"
        },
        "id": "7rxJlt4sX3fp",
        "outputId": "221d6f68-ee7d-4666-8a4d-e0138185b100"
      },
      "source": [
        "b"
      ],
      "execution_count": null,
      "outputs": [
        {
          "output_type": "execute_result",
          "data": {
            "text/plain": [
              "{10, 20, 30}"
            ]
          },
          "metadata": {
            "tags": []
          },
          "execution_count": 54
        }
      ]
    },
    {
      "cell_type": "code",
      "metadata": {
        "id": "4nGV19i9X5xT"
      },
      "source": [
        "b.update({100, 200, 300})"
      ],
      "execution_count": null,
      "outputs": []
    },
    {
      "cell_type": "code",
      "metadata": {
        "colab": {
          "base_uri": "https://localhost:8080/"
        },
        "id": "CXY7c9vMX_dU",
        "outputId": "9c5dce0d-15f8-4465-9d51-8335330267bc"
      },
      "source": [
        "b"
      ],
      "execution_count": null,
      "outputs": [
        {
          "output_type": "execute_result",
          "data": {
            "text/plain": [
              "{10, 20, 30, 100, 200, 300}"
            ]
          },
          "metadata": {
            "tags": []
          },
          "execution_count": 56
        }
      ]
    },
    {
      "cell_type": "code",
      "metadata": {
        "colab": {
          "base_uri": "https://localhost:8080/"
        },
        "id": "ckQNo_NBYADD",
        "outputId": "363348a4-a9af-43d1-cdbf-a2d25b17b38a"
      },
      "source": [
        "a"
      ],
      "execution_count": null,
      "outputs": [
        {
          "output_type": "execute_result",
          "data": {
            "text/plain": [
              "{1, 2, 3, 100}"
            ]
          },
          "metadata": {
            "tags": []
          },
          "execution_count": 57
        }
      ]
    },
    {
      "cell_type": "code",
      "metadata": {
        "id": "djAPAAo8YE9A"
      },
      "source": [
        "a.remove(100)"
      ],
      "execution_count": null,
      "outputs": []
    },
    {
      "cell_type": "code",
      "metadata": {
        "colab": {
          "base_uri": "https://localhost:8080/"
        },
        "id": "bVH3jDDTYGQk",
        "outputId": "f74ef143-db98-490e-903f-9f5acf1f8264"
      },
      "source": [
        "a"
      ],
      "execution_count": null,
      "outputs": [
        {
          "output_type": "execute_result",
          "data": {
            "text/plain": [
              "{1, 2, 3}"
            ]
          },
          "metadata": {
            "tags": []
          },
          "execution_count": 60
        }
      ]
    },
    {
      "cell_type": "code",
      "metadata": {
        "id": "e5dt4DF0YH6u"
      },
      "source": [
        "a.clear()"
      ],
      "execution_count": null,
      "outputs": []
    },
    {
      "cell_type": "code",
      "metadata": {
        "colab": {
          "base_uri": "https://localhost:8080/"
        },
        "id": "lcErJG7WYKeD",
        "outputId": "c607323d-a9e0-4dfd-e0f1-5a2a83ecd4c4"
      },
      "source": [
        "a"
      ],
      "execution_count": null,
      "outputs": [
        {
          "output_type": "execute_result",
          "data": {
            "text/plain": [
              "set()"
            ]
          },
          "metadata": {
            "tags": []
          },
          "execution_count": 63
        }
      ]
    },
    {
      "cell_type": "code",
      "metadata": {
        "id": "orM5jrlaYMk0"
      },
      "source": [
        "a.update({100,200,300})"
      ],
      "execution_count": null,
      "outputs": []
    },
    {
      "cell_type": "code",
      "metadata": {
        "colab": {
          "base_uri": "https://localhost:8080/"
        },
        "id": "MRPcH5iYYUEJ",
        "outputId": "76884f08-aac2-4346-9aee-da0116c8e10e"
      },
      "source": [
        "a"
      ],
      "execution_count": null,
      "outputs": [
        {
          "output_type": "execute_result",
          "data": {
            "text/plain": [
              "{100, 200, 300}"
            ]
          },
          "metadata": {
            "tags": []
          },
          "execution_count": 65
        }
      ]
    },
    {
      "cell_type": "code",
      "metadata": {
        "colab": {
          "base_uri": "https://localhost:8080/"
        },
        "id": "uYWjSHuOYUYW",
        "outputId": "715c8627-8bd2-4399-97da-46e1960b4891"
      },
      "source": [
        "b"
      ],
      "execution_count": null,
      "outputs": [
        {
          "output_type": "execute_result",
          "data": {
            "text/plain": [
              "{10, 20, 30, 100, 200, 300}"
            ]
          },
          "metadata": {
            "tags": []
          },
          "execution_count": 66
        }
      ]
    },
    {
      "cell_type": "code",
      "metadata": {
        "colab": {
          "base_uri": "https://localhost:8080/"
        },
        "id": "oSlB7gtrYVlr",
        "outputId": "e2d4a777-1038-4d17-b3c3-784058aff784"
      },
      "source": [
        "a & b"
      ],
      "execution_count": null,
      "outputs": [
        {
          "output_type": "execute_result",
          "data": {
            "text/plain": [
              "{100, 200, 300}"
            ]
          },
          "metadata": {
            "tags": []
          },
          "execution_count": 67
        }
      ]
    },
    {
      "cell_type": "code",
      "metadata": {
        "colab": {
          "base_uri": "https://localhost:8080/"
        },
        "id": "qN4npYt2YgZ-",
        "outputId": "ccdafa4b-090a-4dce-93cd-eb90028d0344"
      },
      "source": [
        "a | b\n"
      ],
      "execution_count": null,
      "outputs": [
        {
          "output_type": "execute_result",
          "data": {
            "text/plain": [
              "{10, 20, 30, 100, 200, 300}"
            ]
          },
          "metadata": {
            "tags": []
          },
          "execution_count": 68
        }
      ]
    },
    {
      "cell_type": "code",
      "metadata": {
        "colab": {
          "base_uri": "https://localhost:8080/"
        },
        "id": "YvoVj4HkYlBG",
        "outputId": "9a6d24cf-07b2-48af-d4f9-9c8ac84d5553"
      },
      "source": [
        "a - b\n"
      ],
      "execution_count": null,
      "outputs": [
        {
          "output_type": "execute_result",
          "data": {
            "text/plain": [
              "set()"
            ]
          },
          "metadata": {
            "tags": []
          },
          "execution_count": 69
        }
      ]
    },
    {
      "cell_type": "code",
      "metadata": {
        "colab": {
          "base_uri": "https://localhost:8080/"
        },
        "id": "Jk9b8TrKY17W",
        "outputId": "27ba8740-63b6-4ae6-e273-155f79251732"
      },
      "source": [
        "b - a\n"
      ],
      "execution_count": null,
      "outputs": [
        {
          "output_type": "execute_result",
          "data": {
            "text/plain": [
              "{10, 20, 30}"
            ]
          },
          "metadata": {
            "tags": []
          },
          "execution_count": 70
        }
      ]
    },
    {
      "cell_type": "code",
      "metadata": {
        "id": "giJ0x8kZY-XV"
      },
      "source": [
        "lst = [10, 50, 30]\n",
        "tp = ('a','b','c')"
      ],
      "execution_count": null,
      "outputs": []
    },
    {
      "cell_type": "code",
      "metadata": {
        "colab": {
          "base_uri": "https://localhost:8080/"
        },
        "id": "b8BBZN9hZmAc",
        "outputId": "6f2bac3a-cf3e-46c3-f023-1f27e3450664"
      },
      "source": [
        "for item in lst:\n",
        "  print(item)\n",
        "  "
      ],
      "execution_count": null,
      "outputs": [
        {
          "output_type": "stream",
          "text": [
            "10\n",
            "50\n",
            "30\n"
          ],
          "name": "stdout"
        }
      ]
    },
    {
      "cell_type": "code",
      "metadata": {
        "colab": {
          "base_uri": "https://localhost:8080/"
        },
        "id": "9BXCGtw3Zwtt",
        "outputId": "5089b612-54f9-427c-824c-3cec211eb3f6"
      },
      "source": [
        "for item in tp:\n",
        "  print(item)"
      ],
      "execution_count": null,
      "outputs": [
        {
          "output_type": "stream",
          "text": [
            "a\n",
            "b\n",
            "c\n"
          ],
          "name": "stdout"
        }
      ]
    },
    {
      "cell_type": "code",
      "metadata": {
        "colab": {
          "base_uri": "https://localhost:8080/"
        },
        "id": "TGU0zEr1Z82F",
        "outputId": "331752a5-cc3f-4c7d-ec32-f8003c49098c"
      },
      "source": [
        "tp, lst"
      ],
      "execution_count": null,
      "outputs": [
        {
          "output_type": "execute_result",
          "data": {
            "text/plain": [
              "(('a', 'b', 'c'), [10, 50, 30])"
            ]
          },
          "metadata": {
            "tags": []
          },
          "execution_count": 78
        }
      ]
    },
    {
      "cell_type": "code",
      "metadata": {
        "colab": {
          "base_uri": "https://localhost:8080/"
        },
        "id": "sI-A6yIraFc3",
        "outputId": "bdd580a8-7e85-45bf-fc46-21441f894860"
      },
      "source": [
        "zip(tp,lst)"
      ],
      "execution_count": null,
      "outputs": [
        {
          "output_type": "execute_result",
          "data": {
            "text/plain": [
              "<zip at 0x7fd9712c5280>"
            ]
          },
          "metadata": {
            "tags": []
          },
          "execution_count": 79
        }
      ]
    },
    {
      "cell_type": "code",
      "metadata": {
        "colab": {
          "base_uri": "https://localhost:8080/"
        },
        "id": "tsu39zRsaGiZ",
        "outputId": "33370ded-d5da-45ea-a50f-8428562e1808"
      },
      "source": [
        "for item in zip(tp, lst):\n",
        "  print(item)"
      ],
      "execution_count": null,
      "outputs": [
        {
          "output_type": "stream",
          "text": [
            "('a', 10)\n",
            "('b', 50)\n",
            "('c', 30)\n"
          ],
          "name": "stdout"
        }
      ]
    },
    {
      "cell_type": "code",
      "metadata": {
        "id": "X7aBDg7ReCfU"
      },
      "source": [
        "dt = dict(zip(tp, lst))"
      ],
      "execution_count": null,
      "outputs": []
    },
    {
      "cell_type": "code",
      "metadata": {
        "id": "ibmf6xaYeXMt",
        "colab": {
          "base_uri": "https://localhost:8080/"
        },
        "outputId": "dbedca39-4d28-4a0f-956d-dde13ff6a447"
      },
      "source": [
        "dt"
      ],
      "execution_count": null,
      "outputs": [
        {
          "output_type": "execute_result",
          "data": {
            "text/plain": [
              "{'a': 10, 'b': 50, 'c': 30}"
            ]
          },
          "metadata": {
            "tags": []
          },
          "execution_count": 83
        }
      ]
    },
    {
      "cell_type": "code",
      "metadata": {
        "id": "8QLWq_upea7G"
      },
      "source": [
        "temp = [10.8,  8.5,  8.7,  7.9,  5.1,\n",
        "         8.1,  8.2, 10.4,   11,  9.9,\n",
        "         7.8,  9.5, 11.6,  8.2,  7.7,\n",
        "         6.6, 11.1, 12.2, 12.6, 10.4,\n",
        "        13.7, 14.1, 12.6, 11.5,   13,\n",
        "        14.5, 13.7,  9.4, 10.4, 11.6, 12.9]"
      ],
      "execution_count": 84,
      "outputs": []
    },
    {
      "cell_type": "code",
      "metadata": {
        "colab": {
          "base_uri": "https://localhost:8080/"
        },
        "id": "G2eP5cwDfsqI",
        "outputId": "ee1e0d39-80f0-413f-e81f-714ebecc9cab"
      },
      "source": [
        "max(temp)"
      ],
      "execution_count": 87,
      "outputs": [
        {
          "output_type": "execute_result",
          "data": {
            "text/plain": [
              "14.5"
            ]
          },
          "metadata": {
            "tags": []
          },
          "execution_count": 87
        }
      ]
    },
    {
      "cell_type": "code",
      "metadata": {
        "colab": {
          "base_uri": "https://localhost:8080/"
        },
        "id": "CXczQrR3fu7o",
        "outputId": "5fb38a82-bf84-4fb9-9b7c-806bafdfbd13"
      },
      "source": [
        "print(f'2020년 3월의 최고 기온 : {max(temp):6.2f}')"
      ],
      "execution_count": 88,
      "outputs": [
        {
          "output_type": "stream",
          "text": [
            "2020년 3월의 최고 기온 :  14.50\n"
          ],
          "name": "stdout"
        }
      ]
    },
    {
      "cell_type": "code",
      "metadata": {
        "colab": {
          "base_uri": "https://localhost:8080/"
        },
        "id": "eNcRllHaf-xi",
        "outputId": "58b61378-8549-4bc2-b198-7f3059c5e5ad"
      },
      "source": [
        "print(f'2020년 3월의 최저 기온 : {min(temp):6.2f}')"
      ],
      "execution_count": 89,
      "outputs": [
        {
          "output_type": "stream",
          "text": [
            "2020년 3월의 최저 기온 :   5.10\n"
          ],
          "name": "stdout"
        }
      ]
    },
    {
      "cell_type": "code",
      "metadata": {
        "colab": {
          "base_uri": "https://localhost:8080/"
        },
        "id": "qVepqZ9ygDiE",
        "outputId": "8f678dc9-b8da-47a4-bdb6-27fbd1319575"
      },
      "source": [
        "avg = sum(temp) / len(temp)\n",
        "avg"
      ],
      "execution_count": 90,
      "outputs": [
        {
          "output_type": "execute_result",
          "data": {
            "text/plain": [
              "10.441935483870964"
            ]
          },
          "metadata": {
            "tags": []
          },
          "execution_count": 90
        }
      ]
    },
    {
      "cell_type": "code",
      "metadata": {
        "colab": {
          "base_uri": "https://localhost:8080/"
        },
        "id": "6bLFgr5igM_2",
        "outputId": "71161157-3c9a-424b-fbed-7842e9e88f95"
      },
      "source": [
        "print(f'2020년 3월의 평균기온 : {avg:6.2f} 도')"
      ],
      "execution_count": 91,
      "outputs": [
        {
          "output_type": "stream",
          "text": [
            "2020년 3월의 평균기온 :  10.44 도\n"
          ],
          "name": "stdout"
        }
      ]
    },
    {
      "cell_type": "code",
      "metadata": {
        "id": "aZBnwVWhgZbX"
      },
      "source": [
        "y    = [2010, 2011, 2012, 2013, 2014, 2015, 2016, 2017, 2018, 2019]\n",
        "yavg = [14.9, 14.6, 14.5, 15.3, 15.1, 15.4, 15.7, 15.2, 15.1, 15.7]\n",
        "ymax = [34.1,   33, 34.5,   35, 32.9, 33.5, 37.3, 36.2, 36.4,   35]\n",
        "ymin = [  19, 18.8, 18.6, 19.5, 19.2, 19.5, 19.8, 19.6, 19.2, 19.8]\n"
      ],
      "execution_count": 92,
      "outputs": []
    },
    {
      "cell_type": "code",
      "metadata": {
        "id": "8dhKyiiNh71g"
      },
      "source": [
        "#홀수 년도 \n",
        "yodd = [item for item in y if item % 2 ==1 ]"
      ],
      "execution_count": 95,
      "outputs": []
    },
    {
      "cell_type": "code",
      "metadata": {
        "colab": {
          "base_uri": "https://localhost:8080/"
        },
        "id": "UFP9RUz8iUZc",
        "outputId": "3c9e0bb8-1255-4bf8-efd9-5b10cca1f0f4"
      },
      "source": [
        "yodd"
      ],
      "execution_count": 96,
      "outputs": [
        {
          "output_type": "execute_result",
          "data": {
            "text/plain": [
              "[2011, 2013, 2015, 2017, 2019]"
            ]
          },
          "metadata": {
            "tags": []
          },
          "execution_count": 96
        }
      ]
    },
    {
      "cell_type": "code",
      "metadata": {
        "id": "igL6MHcMiDdg"
      },
      "source": [
        "ytemp = dict(zip(y, yavg))"
      ],
      "execution_count": 97,
      "outputs": []
    },
    {
      "cell_type": "code",
      "metadata": {
        "colab": {
          "base_uri": "https://localhost:8080/"
        },
        "id": "Aq3SWjRBinEh",
        "outputId": "7c5cca31-c113-4b81-b2ff-47b2f58dbc25"
      },
      "source": [
        "ytemp"
      ],
      "execution_count": 98,
      "outputs": [
        {
          "output_type": "execute_result",
          "data": {
            "text/plain": [
              "{2010: 14.9,\n",
              " 2011: 14.6,\n",
              " 2012: 14.5,\n",
              " 2013: 15.3,\n",
              " 2014: 15.1,\n",
              " 2015: 15.4,\n",
              " 2016: 15.7,\n",
              " 2017: 15.2,\n",
              " 2018: 15.1,\n",
              " 2019: 15.7}"
            ]
          },
          "metadata": {
            "tags": []
          },
          "execution_count": 98
        }
      ]
    },
    {
      "cell_type": "code",
      "metadata": {
        "colab": {
          "base_uri": "https://localhost:8080/"
        },
        "id": "zRO3TT-UioK8",
        "outputId": "d536e23e-4d9b-4832-d37c-b2218bdfb631"
      },
      "source": [
        "mintemp = min(ytemp.values())\n",
        "mintemp"
      ],
      "execution_count": 100,
      "outputs": [
        {
          "output_type": "execute_result",
          "data": {
            "text/plain": [
              "14.5"
            ]
          },
          "metadata": {
            "tags": []
          },
          "execution_count": 100
        }
      ]
    },
    {
      "cell_type": "code",
      "metadata": {
        "id": "i7bGs5Cki6yU"
      },
      "source": [
        "ryear = []"
      ],
      "execution_count": 101,
      "outputs": []
    },
    {
      "cell_type": "code",
      "metadata": {
        "id": "OuElxdMojGzT"
      },
      "source": [
        "for year, temp in ytemp.items():\n",
        "  if temp == mintemp:\n",
        "    ryear.append(year)"
      ],
      "execution_count": 109,
      "outputs": []
    },
    {
      "cell_type": "code",
      "metadata": {
        "colab": {
          "base_uri": "https://localhost:8080/"
        },
        "id": "G8IVlI3SkSeK",
        "outputId": "10cba914-9029-44bb-da8f-5c2c7fa7810c"
      },
      "source": [
        "ryear\n"
      ],
      "execution_count": 111,
      "outputs": [
        {
          "output_type": "execute_result",
          "data": {
            "text/plain": [
              "[2012, 2012, 2012]"
            ]
          },
          "metadata": {
            "tags": []
          },
          "execution_count": 111
        }
      ]
    },
    {
      "cell_type": "code",
      "metadata": {
        "colab": {
          "base_uri": "https://localhost:8080/"
        },
        "id": "z-HieXtBjJFm",
        "outputId": "388cb160-1b84-42fe-ee25-78f207dec8a9"
      },
      "source": [
        "x = int(input('값 입력 :'))"
      ],
      "execution_count": 110,
      "outputs": [
        {
          "output_type": "stream",
          "text": [
            "값 입력 :13\n"
          ],
          "name": "stdout"
        }
      ]
    },
    {
      "cell_type": "code",
      "metadata": {
        "colab": {
          "base_uri": "https://localhost:8080/"
        },
        "id": "gdT7FRKDkLVs",
        "outputId": "bd6315b5-1015-4b68-b6b2-85d8dc640186"
      },
      "source": [
        "if x %2 == 0:\n",
        "  print('짝수')\n",
        "else : \n",
        "    print('홀수')"
      ],
      "execution_count": 116,
      "outputs": [
        {
          "output_type": "stream",
          "text": [
            "홀수\n"
          ],
          "name": "stdout"
        }
      ]
    },
    {
      "cell_type": "code",
      "metadata": {
        "colab": {
          "base_uri": "https://localhost:8080/"
        },
        "id": "Meu5oHp4kiYU",
        "outputId": "aa091c32-1486-461b-b9f8-07c14bbde6b0"
      },
      "source": [
        "x = float(input('성적입력 : '))"
      ],
      "execution_count": 119,
      "outputs": [
        {
          "output_type": "stream",
          "text": [
            "성적입력 : 44\n"
          ],
          "name": "stdout"
        }
      ]
    },
    {
      "cell_type": "code",
      "metadata": {
        "colab": {
          "base_uri": "https://localhost:8080/"
        },
        "id": "fit_T-SYkjeL",
        "outputId": "892a6036-1314-4b63-8de4-b7e686687376"
      },
      "source": [
        "if x >=70:\n",
        "  print('Pass')\n",
        "elif x >=60:\n",
        "  print('재시험')\n",
        "else : \n",
        "  print('Fail')"
      ],
      "execution_count": 120,
      "outputs": [
        {
          "output_type": "stream",
          "text": [
            "Fail\n"
          ],
          "name": "stdout"
        }
      ]
    },
    {
      "cell_type": "code",
      "metadata": {
        "id": "AuH1wRJ2lGi_"
      },
      "source": [
        "name = '안녕하세요'"
      ],
      "execution_count": 121,
      "outputs": []
    },
    {
      "cell_type": "code",
      "metadata": {
        "colab": {
          "base_uri": "https://localhost:8080/"
        },
        "id": "qMeR4Z9Tlc3u",
        "outputId": "a3841e7f-96ad-4d3a-bd58-bd754fbe9fcf"
      },
      "source": [
        "'안' in name "
      ],
      "execution_count": 122,
      "outputs": [
        {
          "output_type": "execute_result",
          "data": {
            "text/plain": [
              "True"
            ]
          },
          "metadata": {
            "tags": []
          },
          "execution_count": 122
        }
      ]
    },
    {
      "cell_type": "code",
      "metadata": {
        "colab": {
          "base_uri": "https://localhost:8080/"
        },
        "id": "4eiHFw0nlh33",
        "outputId": "dc6c89a5-3562-48bc-b715-87ef37f5ddcd"
      },
      "source": [
        "'go' in name"
      ],
      "execution_count": 123,
      "outputs": [
        {
          "output_type": "execute_result",
          "data": {
            "text/plain": [
              "False"
            ]
          },
          "metadata": {
            "tags": []
          },
          "execution_count": 123
        }
      ]
    },
    {
      "cell_type": "code",
      "metadata": {
        "colab": {
          "base_uri": "https://localhost:8080/"
        },
        "id": "wgbaWOtQlmRi",
        "outputId": "d6f79684-b0a8-4789-cfe1-67d751df2be1"
      },
      "source": [
        "'안녕' in name"
      ],
      "execution_count": 124,
      "outputs": [
        {
          "output_type": "execute_result",
          "data": {
            "text/plain": [
              "True"
            ]
          },
          "metadata": {
            "tags": []
          },
          "execution_count": 124
        }
      ]
    },
    {
      "cell_type": "code",
      "metadata": {
        "colab": {
          "base_uri": "https://localhost:8080/"
        },
        "id": "Q6ZNAmoklrgw",
        "outputId": "dc9a3d7b-36e3-4728-9c8e-42a67798663b"
      },
      "source": [
        "'안세' in name"
      ],
      "execution_count": 125,
      "outputs": [
        {
          "output_type": "execute_result",
          "data": {
            "text/plain": [
              "False"
            ]
          },
          "metadata": {
            "tags": []
          },
          "execution_count": 125
        }
      ]
    },
    {
      "cell_type": "code",
      "metadata": {
        "colab": {
          "base_uri": "https://localhost:8080/"
        },
        "id": "IxhBif2LluOQ",
        "outputId": "b229b9ad-19e9-4981-fd34-1f153dc75ce3"
      },
      "source": [
        "range(5)"
      ],
      "execution_count": 126,
      "outputs": [
        {
          "output_type": "execute_result",
          "data": {
            "text/plain": [
              "range(0, 5)"
            ]
          },
          "metadata": {
            "tags": []
          },
          "execution_count": 126
        }
      ]
    },
    {
      "cell_type": "code",
      "metadata": {
        "colab": {
          "base_uri": "https://localhost:8080/"
        },
        "id": "ZCrzw2_wly6i",
        "outputId": "1c21c345-80c2-452b-d009-84808cbf3c57"
      },
      "source": [
        "for i in range(5):\n",
        "  print(i)"
      ],
      "execution_count": 127,
      "outputs": [
        {
          "output_type": "stream",
          "text": [
            "0\n",
            "1\n",
            "2\n",
            "3\n",
            "4\n"
          ],
          "name": "stdout"
        }
      ]
    },
    {
      "cell_type": "code",
      "metadata": {
        "colab": {
          "base_uri": "https://localhost:8080/"
        },
        "id": "1VOfkdkYl75k",
        "outputId": "e7e4452c-af50-4473-e5a0-1165d035fb9d"
      },
      "source": [
        "list(range(5))"
      ],
      "execution_count": 128,
      "outputs": [
        {
          "output_type": "execute_result",
          "data": {
            "text/plain": [
              "[0, 1, 2, 3, 4]"
            ]
          },
          "metadata": {
            "tags": []
          },
          "execution_count": 128
        }
      ]
    },
    {
      "cell_type": "code",
      "metadata": {
        "colab": {
          "base_uri": "https://localhost:8080/"
        },
        "id": "u5MlG_9UmAlH",
        "outputId": "bb3d7ba4-6502-4301-f2c2-0816f01f74e5"
      },
      "source": [
        "1 in list(range(5))"
      ],
      "execution_count": 130,
      "outputs": [
        {
          "output_type": "execute_result",
          "data": {
            "text/plain": [
              "True"
            ]
          },
          "metadata": {
            "tags": []
          },
          "execution_count": 130
        }
      ]
    },
    {
      "cell_type": "code",
      "metadata": {
        "id": "5MdV2iT7mHxL"
      },
      "source": [
        "d = {'a' :1, 'b':2}"
      ],
      "execution_count": 131,
      "outputs": []
    },
    {
      "cell_type": "code",
      "metadata": {
        "colab": {
          "base_uri": "https://localhost:8080/"
        },
        "id": "Ir4t3tRnmXPj",
        "outputId": "d520d6f9-ed91-4ba1-d6ae-0eacd3437b17"
      },
      "source": [
        "1in d"
      ],
      "execution_count": 132,
      "outputs": [
        {
          "output_type": "execute_result",
          "data": {
            "text/plain": [
              "False"
            ]
          },
          "metadata": {
            "tags": []
          },
          "execution_count": 132
        }
      ]
    },
    {
      "cell_type": "code",
      "metadata": {
        "id": "NwUO2cR8mZNY"
      },
      "source": [
        "a = '안녕하세요'"
      ],
      "execution_count": 133,
      "outputs": []
    },
    {
      "cell_type": "code",
      "metadata": {
        "colab": {
          "base_uri": "https://localhost:8080/",
          "height": 36
        },
        "id": "2vLvPp9smmBw",
        "outputId": "7daf1f39-9904-42fa-e1a0-488299142ef6"
      },
      "source": [
        "a"
      ],
      "execution_count": 135,
      "outputs": [
        {
          "output_type": "execute_result",
          "data": {
            "application/vnd.google.colaboratory.intrinsic+json": {
              "type": "string"
            },
            "text/plain": [
              "'안녕하세요'"
            ]
          },
          "metadata": {
            "tags": []
          },
          "execution_count": 135
        }
      ]
    },
    {
      "cell_type": "code",
      "metadata": {
        "colab": {
          "base_uri": "https://localhost:8080/"
        },
        "id": "ALcvVlSUmmQi",
        "outputId": "f4d0acb4-566e-4b8a-f475-7b785dd7d4d8"
      },
      "source": [
        "for i in a:\n",
        "  print(i)"
      ],
      "execution_count": 136,
      "outputs": [
        {
          "output_type": "stream",
          "text": [
            "안\n",
            "녕\n",
            "하\n",
            "세\n",
            "요\n"
          ],
          "name": "stdout"
        }
      ]
    },
    {
      "cell_type": "code",
      "metadata": {
        "id": "fsZzP-Kimrn4"
      },
      "source": [
        "lst = list(range(5))\n"
      ],
      "execution_count": 137,
      "outputs": []
    },
    {
      "cell_type": "code",
      "metadata": {
        "colab": {
          "base_uri": "https://localhost:8080/"
        },
        "id": "FvCCv9XIm0iX",
        "outputId": "c981747a-e61f-44fb-8e78-f30c6ce666fd"
      },
      "source": [
        "lst"
      ],
      "execution_count": 138,
      "outputs": [
        {
          "output_type": "execute_result",
          "data": {
            "text/plain": [
              "[0, 1, 2, 3, 4]"
            ]
          },
          "metadata": {
            "tags": []
          },
          "execution_count": 138
        }
      ]
    },
    {
      "cell_type": "code",
      "metadata": {
        "colab": {
          "base_uri": "https://localhost:8080/"
        },
        "id": "FjhFEatnm1A9",
        "outputId": "a87beddf-ca57-4b65-e7ba-d9afc0ef44e0"
      },
      "source": [
        "for item in lst:\n",
        " print(item)"
      ],
      "execution_count": 139,
      "outputs": [
        {
          "output_type": "stream",
          "text": [
            "0\n",
            "1\n",
            "2\n",
            "3\n",
            "4\n"
          ],
          "name": "stdout"
        }
      ]
    },
    {
      "cell_type": "code",
      "metadata": {
        "colab": {
          "base_uri": "https://localhost:8080/"
        },
        "id": "jmD4H9XVm7C9",
        "outputId": "1ae59c91-808b-45bb-d3d8-5d70122e3a52"
      },
      "source": [
        "for item in range(5):\n",
        "\n",
        "\n",
        " print(item)"
      ],
      "execution_count": 142,
      "outputs": [
        {
          "output_type": "stream",
          "text": [
            "0\n",
            "1\n",
            "2\n",
            "3\n",
            "4\n"
          ],
          "name": "stdout"
        }
      ]
    },
    {
      "cell_type": "code",
      "metadata": {
        "id": "hJSubwgzm_zb"
      },
      "source": [
        "dt ={\n",
        "    'a':1,\n",
        "     'b':2\n",
        "}"
      ],
      "execution_count": 143,
      "outputs": []
    },
    {
      "cell_type": "code",
      "metadata": {
        "colab": {
          "base_uri": "https://localhost:8080/"
        },
        "id": "5nHOCNTKnJ4A",
        "outputId": "2bc2e8d3-90c9-48ef-dd20-f6767b544399"
      },
      "source": [
        "dt"
      ],
      "execution_count": 144,
      "outputs": [
        {
          "output_type": "execute_result",
          "data": {
            "text/plain": [
              "{'a': 1, 'b': 2}"
            ]
          },
          "metadata": {
            "tags": []
          },
          "execution_count": 144
        }
      ]
    },
    {
      "cell_type": "code",
      "metadata": {
        "colab": {
          "base_uri": "https://localhost:8080/"
        },
        "id": "f_Ly4lfRnK41",
        "outputId": "c2ba560c-9471-4260-c1cc-0316487002c2"
      },
      "source": [
        "for item in dt:\n",
        "  print(item)"
      ],
      "execution_count": 145,
      "outputs": [
        {
          "output_type": "stream",
          "text": [
            "a\n",
            "b\n"
          ],
          "name": "stdout"
        }
      ]
    },
    {
      "cell_type": "code",
      "metadata": {
        "colab": {
          "base_uri": "https://localhost:8080/"
        },
        "id": "x0TY3sDRnPQ4",
        "outputId": "33972dd0-af4b-4751-e64a-acd6425e9eda"
      },
      "source": [
        "for item in dt. values():\n",
        "  print(item)"
      ],
      "execution_count": 146,
      "outputs": [
        {
          "output_type": "stream",
          "text": [
            "1\n",
            "2\n"
          ],
          "name": "stdout"
        }
      ]
    },
    {
      "cell_type": "code",
      "metadata": {
        "colab": {
          "base_uri": "https://localhost:8080/"
        },
        "id": "qSsSzCfwnZYH",
        "outputId": "4cf3fe67-5581-4bc3-cf45-6a9feb993d94"
      },
      "source": [
        "for key, value in dt.items():\n",
        "  print(key, value)"
      ],
      "execution_count": 149,
      "outputs": [
        {
          "output_type": "stream",
          "text": [
            "a 1\n",
            "b 2\n"
          ],
          "name": "stdout"
        }
      ]
    },
    {
      "cell_type": "code",
      "metadata": {
        "id": "VxcEsPsVniY6"
      },
      "source": [
        ""
      ],
      "execution_count": null,
      "outputs": []
    }
  ]
}
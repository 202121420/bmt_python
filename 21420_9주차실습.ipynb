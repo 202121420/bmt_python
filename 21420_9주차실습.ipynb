{
  "nbformat": 4,
  "nbformat_minor": 0,
  "metadata": {
    "colab": {
      "name": "21420_9주차실습.ipynb",
      "provenance": [],
      "collapsed_sections": [],
      "authorship_tag": "ABX9TyPprDojgU5y3agnRZA4f+vc",
      "include_colab_link": true
    },
    "kernelspec": {
      "name": "python3",
      "display_name": "Python 3"
    },
    "language_info": {
      "name": "python"
    }
  },
  "cells": [
    {
      "cell_type": "markdown",
      "metadata": {
        "id": "view-in-github",
        "colab_type": "text"
      },
      "source": [
        "<a href=\"https://colab.research.google.com/github/202121420/bmt_python/blob/main/21420_9%EC%A3%BC%EC%B0%A8%EC%8B%A4%EC%8A%B5.ipynb\" target=\"_parent\"><img src=\"https://colab.research.google.com/assets/colab-badge.svg\" alt=\"Open In Colab\"/></a>"
      ]
    },
    {
      "cell_type": "code",
      "metadata": {
        "id": "f-EM78oidRPe"
      },
      "source": [
        "import pandas as pd\n",
        "import numpy as np \n",
        "import matplotlib.pyplot as plt\n",
        "\n"
      ],
      "execution_count": 1,
      "outputs": []
    },
    {
      "cell_type": "code",
      "metadata": {
        "id": "8e55d-XNfo1s"
      },
      "source": [
        "s = pd.Series([1, 3, 5, np.nan, 6, 8])"
      ],
      "execution_count": 3,
      "outputs": []
    },
    {
      "cell_type": "code",
      "metadata": {
        "colab": {
          "base_uri": "https://localhost:8080/"
        },
        "id": "iQI6BBoTgqNr",
        "outputId": "0ea26302-e043-4de1-d538-ade07fed742b"
      },
      "source": [
        "s"
      ],
      "execution_count": 4,
      "outputs": [
        {
          "output_type": "execute_result",
          "data": {
            "text/plain": [
              "0    1.0\n",
              "1    3.0\n",
              "2    5.0\n",
              "3    NaN\n",
              "4    6.0\n",
              "5    8.0\n",
              "dtype: float64"
            ]
          },
          "metadata": {
            "tags": []
          },
          "execution_count": 4
        }
      ]
    },
    {
      "cell_type": "code",
      "metadata": {
        "colab": {
          "base_uri": "https://localhost:8080/"
        },
        "id": "wTVWBLuRgs8-",
        "outputId": "4d84b401-ba47-4d0e-c55f-9b71526d3318"
      },
      "source": [
        "type(s)"
      ],
      "execution_count": 5,
      "outputs": [
        {
          "output_type": "execute_result",
          "data": {
            "text/plain": [
              "pandas.core.series.Series"
            ]
          },
          "metadata": {
            "tags": []
          },
          "execution_count": 5
        }
      ]
    },
    {
      "cell_type": "code",
      "metadata": {
        "colab": {
          "base_uri": "https://localhost:8080/"
        },
        "id": "3EEn2DxGg8Rn",
        "outputId": "599d8103-9f37-4df8-96e5-7ddff4fc2050"
      },
      "source": [
        "type([])"
      ],
      "execution_count": 6,
      "outputs": [
        {
          "output_type": "execute_result",
          "data": {
            "text/plain": [
              "list"
            ]
          },
          "metadata": {
            "tags": []
          },
          "execution_count": 6
        }
      ]
    },
    {
      "cell_type": "code",
      "metadata": {
        "colab": {
          "base_uri": "https://localhost:8080/"
        },
        "id": "Y-qCtkOnhAe3",
        "outputId": "603523a6-f823-4a1d-91bd-4157570b451e"
      },
      "source": [
        "pd.date_range('20210430' , periods=6) "
      ],
      "execution_count": 8,
      "outputs": [
        {
          "output_type": "execute_result",
          "data": {
            "text/plain": [
              "DatetimeIndex(['2021-04-30', '2021-05-01', '2021-05-02', '2021-05-03',\n",
              "               '2021-05-04', '2021-05-05'],\n",
              "              dtype='datetime64[ns]', freq='D')"
            ]
          },
          "metadata": {
            "tags": []
          },
          "execution_count": 8
        }
      ]
    },
    {
      "cell_type": "code",
      "metadata": {
        "id": "Kg1aR2rihZCX"
      },
      "source": [
        "dates = pd.date_range('20210430', periods=6)"
      ],
      "execution_count": 9,
      "outputs": []
    },
    {
      "cell_type": "code",
      "metadata": {
        "colab": {
          "base_uri": "https://localhost:8080/"
        },
        "id": "hXb-2GT6iIO3",
        "outputId": "9f22b0d0-6f4c-4adb-ed12-8c545553fcab"
      },
      "source": [
        "dates"
      ],
      "execution_count": 10,
      "outputs": [
        {
          "output_type": "execute_result",
          "data": {
            "text/plain": [
              "DatetimeIndex(['2021-04-30', '2021-05-01', '2021-05-02', '2021-05-03',\n",
              "               '2021-05-04', '2021-05-05'],\n",
              "              dtype='datetime64[ns]', freq='D')"
            ]
          },
          "metadata": {
            "tags": []
          },
          "execution_count": 10
        }
      ]
    },
    {
      "cell_type": "code",
      "metadata": {
        "id": "KmKFkakCiJib"
      },
      "source": [
        "df = pd.DataFrame(np.random.randn(6,4), index=dates, columns=list('ABCD'))"
      ],
      "execution_count": 13,
      "outputs": []
    },
    {
      "cell_type": "code",
      "metadata": {
        "colab": {
          "base_uri": "https://localhost:8080/",
          "height": 225
        },
        "id": "kEhvto2Tic6h",
        "outputId": "e2124514-d9c9-4b8a-c6e8-193a34aa570a"
      },
      "source": [
        "df"
      ],
      "execution_count": 14,
      "outputs": [
        {
          "output_type": "execute_result",
          "data": {
            "text/html": [
              "<div>\n",
              "<style scoped>\n",
              "    .dataframe tbody tr th:only-of-type {\n",
              "        vertical-align: middle;\n",
              "    }\n",
              "\n",
              "    .dataframe tbody tr th {\n",
              "        vertical-align: top;\n",
              "    }\n",
              "\n",
              "    .dataframe thead th {\n",
              "        text-align: right;\n",
              "    }\n",
              "</style>\n",
              "<table border=\"1\" class=\"dataframe\">\n",
              "  <thead>\n",
              "    <tr style=\"text-align: right;\">\n",
              "      <th></th>\n",
              "      <th>A</th>\n",
              "      <th>B</th>\n",
              "      <th>C</th>\n",
              "      <th>D</th>\n",
              "    </tr>\n",
              "  </thead>\n",
              "  <tbody>\n",
              "    <tr>\n",
              "      <th>2021-04-30</th>\n",
              "      <td>1.806643</td>\n",
              "      <td>0.050738</td>\n",
              "      <td>1.188375</td>\n",
              "      <td>-0.699401</td>\n",
              "    </tr>\n",
              "    <tr>\n",
              "      <th>2021-05-01</th>\n",
              "      <td>-0.614537</td>\n",
              "      <td>0.605540</td>\n",
              "      <td>-0.321611</td>\n",
              "      <td>0.307017</td>\n",
              "    </tr>\n",
              "    <tr>\n",
              "      <th>2021-05-02</th>\n",
              "      <td>-0.158221</td>\n",
              "      <td>-0.798081</td>\n",
              "      <td>0.169946</td>\n",
              "      <td>-0.064355</td>\n",
              "    </tr>\n",
              "    <tr>\n",
              "      <th>2021-05-03</th>\n",
              "      <td>2.160196</td>\n",
              "      <td>-0.931037</td>\n",
              "      <td>-0.311263</td>\n",
              "      <td>-0.681520</td>\n",
              "    </tr>\n",
              "    <tr>\n",
              "      <th>2021-05-04</th>\n",
              "      <td>1.167879</td>\n",
              "      <td>-1.119867</td>\n",
              "      <td>-0.163739</td>\n",
              "      <td>-0.237756</td>\n",
              "    </tr>\n",
              "    <tr>\n",
              "      <th>2021-05-05</th>\n",
              "      <td>-1.384318</td>\n",
              "      <td>-1.009611</td>\n",
              "      <td>-0.293398</td>\n",
              "      <td>-0.763522</td>\n",
              "    </tr>\n",
              "  </tbody>\n",
              "</table>\n",
              "</div>"
            ],
            "text/plain": [
              "                   A         B         C         D\n",
              "2021-04-30  1.806643  0.050738  1.188375 -0.699401\n",
              "2021-05-01 -0.614537  0.605540 -0.321611  0.307017\n",
              "2021-05-02 -0.158221 -0.798081  0.169946 -0.064355\n",
              "2021-05-03  2.160196 -0.931037 -0.311263 -0.681520\n",
              "2021-05-04  1.167879 -1.119867 -0.163739 -0.237756\n",
              "2021-05-05 -1.384318 -1.009611 -0.293398 -0.763522"
            ]
          },
          "metadata": {
            "tags": []
          },
          "execution_count": 14
        }
      ]
    },
    {
      "cell_type": "code",
      "metadata": {
        "colab": {
          "base_uri": "https://localhost:8080/"
        },
        "id": "_C_9-2f9ik-x",
        "outputId": "32acdfeb-2fab-43ea-d0e8-6b434f7d60fb"
      },
      "source": [
        "np.random.randn(6,4)"
      ],
      "execution_count": 15,
      "outputs": [
        {
          "output_type": "execute_result",
          "data": {
            "text/plain": [
              "array([[-0.03428267, -0.32441056, -0.50941459,  0.34305333],\n",
              "       [-0.29690143,  2.56509965, -2.09778808, -1.20984789],\n",
              "       [-0.61728891,  1.08116158,  0.45131756, -0.51682737],\n",
              "       [ 0.78431845, -0.24838092, -0.02472115,  0.48070437],\n",
              "       [-0.76926041, -0.8795778 , -0.48930929,  0.46408606],\n",
              "       [ 0.51378378,  1.42889793, -1.76888736,  0.49205215]])"
            ]
          },
          "metadata": {
            "tags": []
          },
          "execution_count": 15
        }
      ]
    },
    {
      "cell_type": "code",
      "metadata": {
        "id": "xLYhU2aFjbMw"
      },
      "source": [
        "df2 = pd.DataFrame(\n",
        "        {\n",
        "        'A': 1.,\n",
        "        'B': pd.Timestamp('20210430'),\n",
        "        'C': pd.Series(1, index=list(range(4)), dtype='float32'),\n",
        "        'D': np.array([3] * 4, dtype='int32'),\n",
        "        'E': pd.Categorical([\"test\", \"train\", \"test\", \"train\" ]),\n",
        "        'F': 'foo'\n",
        "        }\n",
        "    )"
      ],
      "execution_count": 19,
      "outputs": []
    },
    {
      "cell_type": "code",
      "metadata": {
        "colab": {
          "base_uri": "https://localhost:8080/",
          "height": 166
        },
        "id": "H4MHfj3Gk2Hi",
        "outputId": "60555730-eb60-4c78-f577-64e3a79c567e"
      },
      "source": [
        "df2"
      ],
      "execution_count": 20,
      "outputs": [
        {
          "output_type": "execute_result",
          "data": {
            "text/html": [
              "<div>\n",
              "<style scoped>\n",
              "    .dataframe tbody tr th:only-of-type {\n",
              "        vertical-align: middle;\n",
              "    }\n",
              "\n",
              "    .dataframe tbody tr th {\n",
              "        vertical-align: top;\n",
              "    }\n",
              "\n",
              "    .dataframe thead th {\n",
              "        text-align: right;\n",
              "    }\n",
              "</style>\n",
              "<table border=\"1\" class=\"dataframe\">\n",
              "  <thead>\n",
              "    <tr style=\"text-align: right;\">\n",
              "      <th></th>\n",
              "      <th>A</th>\n",
              "      <th>B</th>\n",
              "      <th>C</th>\n",
              "      <th>D</th>\n",
              "      <th>E</th>\n",
              "      <th>F</th>\n",
              "    </tr>\n",
              "  </thead>\n",
              "  <tbody>\n",
              "    <tr>\n",
              "      <th>0</th>\n",
              "      <td>1.0</td>\n",
              "      <td>2021-04-30</td>\n",
              "      <td>1.0</td>\n",
              "      <td>3</td>\n",
              "      <td>test</td>\n",
              "      <td>foo</td>\n",
              "    </tr>\n",
              "    <tr>\n",
              "      <th>1</th>\n",
              "      <td>1.0</td>\n",
              "      <td>2021-04-30</td>\n",
              "      <td>1.0</td>\n",
              "      <td>3</td>\n",
              "      <td>train</td>\n",
              "      <td>foo</td>\n",
              "    </tr>\n",
              "    <tr>\n",
              "      <th>2</th>\n",
              "      <td>1.0</td>\n",
              "      <td>2021-04-30</td>\n",
              "      <td>1.0</td>\n",
              "      <td>3</td>\n",
              "      <td>test</td>\n",
              "      <td>foo</td>\n",
              "    </tr>\n",
              "    <tr>\n",
              "      <th>3</th>\n",
              "      <td>1.0</td>\n",
              "      <td>2021-04-30</td>\n",
              "      <td>1.0</td>\n",
              "      <td>3</td>\n",
              "      <td>train</td>\n",
              "      <td>foo</td>\n",
              "    </tr>\n",
              "  </tbody>\n",
              "</table>\n",
              "</div>"
            ],
            "text/plain": [
              "     A          B    C  D      E    F\n",
              "0  1.0 2021-04-30  1.0  3   test  foo\n",
              "1  1.0 2021-04-30  1.0  3  train  foo\n",
              "2  1.0 2021-04-30  1.0  3   test  foo\n",
              "3  1.0 2021-04-30  1.0  3  train  foo"
            ]
          },
          "metadata": {
            "tags": []
          },
          "execution_count": 20
        }
      ]
    },
    {
      "cell_type": "code",
      "metadata": {
        "colab": {
          "base_uri": "https://localhost:8080/"
        },
        "id": "3Nqyyb-wlBEw",
        "outputId": "917b4e52-8653-4efc-db5f-69f47ead07f8"
      },
      "source": [
        "type(df2)\n"
      ],
      "execution_count": 21,
      "outputs": [
        {
          "output_type": "execute_result",
          "data": {
            "text/plain": [
              "pandas.core.frame.DataFrame"
            ]
          },
          "metadata": {
            "tags": []
          },
          "execution_count": 21
        }
      ]
    },
    {
      "cell_type": "code",
      "metadata": {
        "colab": {
          "base_uri": "https://localhost:8080/"
        },
        "id": "r2GoF8_DlF6J",
        "outputId": "cb5eef24-939f-4644-f042-f61025a26939"
      },
      "source": [
        "df2.dtypes"
      ],
      "execution_count": 22,
      "outputs": [
        {
          "output_type": "execute_result",
          "data": {
            "text/plain": [
              "A           float64\n",
              "B    datetime64[ns]\n",
              "C           float32\n",
              "D             int32\n",
              "E          category\n",
              "F            object\n",
              "dtype: object"
            ]
          },
          "metadata": {
            "tags": []
          },
          "execution_count": 22
        }
      ]
    },
    {
      "cell_type": "code",
      "metadata": {
        "colab": {
          "base_uri": "https://localhost:8080/",
          "height": 225
        },
        "id": "USLUYLrelMbV",
        "outputId": "0fc2175f-ae93-4820-a810-aafe95df2c49"
      },
      "source": [
        "df"
      ],
      "execution_count": 23,
      "outputs": [
        {
          "output_type": "execute_result",
          "data": {
            "text/html": [
              "<div>\n",
              "<style scoped>\n",
              "    .dataframe tbody tr th:only-of-type {\n",
              "        vertical-align: middle;\n",
              "    }\n",
              "\n",
              "    .dataframe tbody tr th {\n",
              "        vertical-align: top;\n",
              "    }\n",
              "\n",
              "    .dataframe thead th {\n",
              "        text-align: right;\n",
              "    }\n",
              "</style>\n",
              "<table border=\"1\" class=\"dataframe\">\n",
              "  <thead>\n",
              "    <tr style=\"text-align: right;\">\n",
              "      <th></th>\n",
              "      <th>A</th>\n",
              "      <th>B</th>\n",
              "      <th>C</th>\n",
              "      <th>D</th>\n",
              "    </tr>\n",
              "  </thead>\n",
              "  <tbody>\n",
              "    <tr>\n",
              "      <th>2021-04-30</th>\n",
              "      <td>1.806643</td>\n",
              "      <td>0.050738</td>\n",
              "      <td>1.188375</td>\n",
              "      <td>-0.699401</td>\n",
              "    </tr>\n",
              "    <tr>\n",
              "      <th>2021-05-01</th>\n",
              "      <td>-0.614537</td>\n",
              "      <td>0.605540</td>\n",
              "      <td>-0.321611</td>\n",
              "      <td>0.307017</td>\n",
              "    </tr>\n",
              "    <tr>\n",
              "      <th>2021-05-02</th>\n",
              "      <td>-0.158221</td>\n",
              "      <td>-0.798081</td>\n",
              "      <td>0.169946</td>\n",
              "      <td>-0.064355</td>\n",
              "    </tr>\n",
              "    <tr>\n",
              "      <th>2021-05-03</th>\n",
              "      <td>2.160196</td>\n",
              "      <td>-0.931037</td>\n",
              "      <td>-0.311263</td>\n",
              "      <td>-0.681520</td>\n",
              "    </tr>\n",
              "    <tr>\n",
              "      <th>2021-05-04</th>\n",
              "      <td>1.167879</td>\n",
              "      <td>-1.119867</td>\n",
              "      <td>-0.163739</td>\n",
              "      <td>-0.237756</td>\n",
              "    </tr>\n",
              "    <tr>\n",
              "      <th>2021-05-05</th>\n",
              "      <td>-1.384318</td>\n",
              "      <td>-1.009611</td>\n",
              "      <td>-0.293398</td>\n",
              "      <td>-0.763522</td>\n",
              "    </tr>\n",
              "  </tbody>\n",
              "</table>\n",
              "</div>"
            ],
            "text/plain": [
              "                   A         B         C         D\n",
              "2021-04-30  1.806643  0.050738  1.188375 -0.699401\n",
              "2021-05-01 -0.614537  0.605540 -0.321611  0.307017\n",
              "2021-05-02 -0.158221 -0.798081  0.169946 -0.064355\n",
              "2021-05-03  2.160196 -0.931037 -0.311263 -0.681520\n",
              "2021-05-04  1.167879 -1.119867 -0.163739 -0.237756\n",
              "2021-05-05 -1.384318 -1.009611 -0.293398 -0.763522"
            ]
          },
          "metadata": {
            "tags": []
          },
          "execution_count": 23
        }
      ]
    },
    {
      "cell_type": "code",
      "metadata": {
        "colab": {
          "base_uri": "https://localhost:8080/",
          "height": 77
        },
        "id": "Lz5kbjSoluKV",
        "outputId": "c38d1dca-f142-476b-e9df-c14481e1c5f3"
      },
      "source": [
        "df.head(1)"
      ],
      "execution_count": 26,
      "outputs": [
        {
          "output_type": "execute_result",
          "data": {
            "text/html": [
              "<div>\n",
              "<style scoped>\n",
              "    .dataframe tbody tr th:only-of-type {\n",
              "        vertical-align: middle;\n",
              "    }\n",
              "\n",
              "    .dataframe tbody tr th {\n",
              "        vertical-align: top;\n",
              "    }\n",
              "\n",
              "    .dataframe thead th {\n",
              "        text-align: right;\n",
              "    }\n",
              "</style>\n",
              "<table border=\"1\" class=\"dataframe\">\n",
              "  <thead>\n",
              "    <tr style=\"text-align: right;\">\n",
              "      <th></th>\n",
              "      <th>A</th>\n",
              "      <th>B</th>\n",
              "      <th>C</th>\n",
              "      <th>D</th>\n",
              "    </tr>\n",
              "  </thead>\n",
              "  <tbody>\n",
              "    <tr>\n",
              "      <th>2021-04-30</th>\n",
              "      <td>1.806643</td>\n",
              "      <td>0.050738</td>\n",
              "      <td>1.188375</td>\n",
              "      <td>-0.699401</td>\n",
              "    </tr>\n",
              "  </tbody>\n",
              "</table>\n",
              "</div>"
            ],
            "text/plain": [
              "                   A         B         C         D\n",
              "2021-04-30  1.806643  0.050738  1.188375 -0.699401"
            ]
          },
          "metadata": {
            "tags": []
          },
          "execution_count": 26
        }
      ]
    },
    {
      "cell_type": "code",
      "metadata": {
        "colab": {
          "base_uri": "https://localhost:8080/",
          "height": 106
        },
        "id": "RAa2PBpVlx5I",
        "outputId": "163292ed-2dd9-4279-867a-47578e6cf7e2"
      },
      "source": [
        "df.tail(2)"
      ],
      "execution_count": 27,
      "outputs": [
        {
          "output_type": "execute_result",
          "data": {
            "text/html": [
              "<div>\n",
              "<style scoped>\n",
              "    .dataframe tbody tr th:only-of-type {\n",
              "        vertical-align: middle;\n",
              "    }\n",
              "\n",
              "    .dataframe tbody tr th {\n",
              "        vertical-align: top;\n",
              "    }\n",
              "\n",
              "    .dataframe thead th {\n",
              "        text-align: right;\n",
              "    }\n",
              "</style>\n",
              "<table border=\"1\" class=\"dataframe\">\n",
              "  <thead>\n",
              "    <tr style=\"text-align: right;\">\n",
              "      <th></th>\n",
              "      <th>A</th>\n",
              "      <th>B</th>\n",
              "      <th>C</th>\n",
              "      <th>D</th>\n",
              "    </tr>\n",
              "  </thead>\n",
              "  <tbody>\n",
              "    <tr>\n",
              "      <th>2021-05-04</th>\n",
              "      <td>1.167879</td>\n",
              "      <td>-1.119867</td>\n",
              "      <td>-0.163739</td>\n",
              "      <td>-0.237756</td>\n",
              "    </tr>\n",
              "    <tr>\n",
              "      <th>2021-05-05</th>\n",
              "      <td>-1.384318</td>\n",
              "      <td>-1.009611</td>\n",
              "      <td>-0.293398</td>\n",
              "      <td>-0.763522</td>\n",
              "    </tr>\n",
              "  </tbody>\n",
              "</table>\n",
              "</div>"
            ],
            "text/plain": [
              "                   A         B         C         D\n",
              "2021-05-04  1.167879 -1.119867 -0.163739 -0.237756\n",
              "2021-05-05 -1.384318 -1.009611 -0.293398 -0.763522"
            ]
          },
          "metadata": {
            "tags": []
          },
          "execution_count": 27
        }
      ]
    },
    {
      "cell_type": "code",
      "metadata": {
        "colab": {
          "base_uri": "https://localhost:8080/",
          "height": 225
        },
        "id": "bwyURVmQmGTC",
        "outputId": "64bf6d19-fadc-4e99-c193-07b8cc5005bd"
      },
      "source": [
        "df"
      ],
      "execution_count": 28,
      "outputs": [
        {
          "output_type": "execute_result",
          "data": {
            "text/html": [
              "<div>\n",
              "<style scoped>\n",
              "    .dataframe tbody tr th:only-of-type {\n",
              "        vertical-align: middle;\n",
              "    }\n",
              "\n",
              "    .dataframe tbody tr th {\n",
              "        vertical-align: top;\n",
              "    }\n",
              "\n",
              "    .dataframe thead th {\n",
              "        text-align: right;\n",
              "    }\n",
              "</style>\n",
              "<table border=\"1\" class=\"dataframe\">\n",
              "  <thead>\n",
              "    <tr style=\"text-align: right;\">\n",
              "      <th></th>\n",
              "      <th>A</th>\n",
              "      <th>B</th>\n",
              "      <th>C</th>\n",
              "      <th>D</th>\n",
              "    </tr>\n",
              "  </thead>\n",
              "  <tbody>\n",
              "    <tr>\n",
              "      <th>2021-04-30</th>\n",
              "      <td>1.806643</td>\n",
              "      <td>0.050738</td>\n",
              "      <td>1.188375</td>\n",
              "      <td>-0.699401</td>\n",
              "    </tr>\n",
              "    <tr>\n",
              "      <th>2021-05-01</th>\n",
              "      <td>-0.614537</td>\n",
              "      <td>0.605540</td>\n",
              "      <td>-0.321611</td>\n",
              "      <td>0.307017</td>\n",
              "    </tr>\n",
              "    <tr>\n",
              "      <th>2021-05-02</th>\n",
              "      <td>-0.158221</td>\n",
              "      <td>-0.798081</td>\n",
              "      <td>0.169946</td>\n",
              "      <td>-0.064355</td>\n",
              "    </tr>\n",
              "    <tr>\n",
              "      <th>2021-05-03</th>\n",
              "      <td>2.160196</td>\n",
              "      <td>-0.931037</td>\n",
              "      <td>-0.311263</td>\n",
              "      <td>-0.681520</td>\n",
              "    </tr>\n",
              "    <tr>\n",
              "      <th>2021-05-04</th>\n",
              "      <td>1.167879</td>\n",
              "      <td>-1.119867</td>\n",
              "      <td>-0.163739</td>\n",
              "      <td>-0.237756</td>\n",
              "    </tr>\n",
              "    <tr>\n",
              "      <th>2021-05-05</th>\n",
              "      <td>-1.384318</td>\n",
              "      <td>-1.009611</td>\n",
              "      <td>-0.293398</td>\n",
              "      <td>-0.763522</td>\n",
              "    </tr>\n",
              "  </tbody>\n",
              "</table>\n",
              "</div>"
            ],
            "text/plain": [
              "                   A         B         C         D\n",
              "2021-04-30  1.806643  0.050738  1.188375 -0.699401\n",
              "2021-05-01 -0.614537  0.605540 -0.321611  0.307017\n",
              "2021-05-02 -0.158221 -0.798081  0.169946 -0.064355\n",
              "2021-05-03  2.160196 -0.931037 -0.311263 -0.681520\n",
              "2021-05-04  1.167879 -1.119867 -0.163739 -0.237756\n",
              "2021-05-05 -1.384318 -1.009611 -0.293398 -0.763522"
            ]
          },
          "metadata": {
            "tags": []
          },
          "execution_count": 28
        }
      ]
    },
    {
      "cell_type": "code",
      "metadata": {
        "colab": {
          "base_uri": "https://localhost:8080/"
        },
        "id": "8KtGUFkxmeUj",
        "outputId": "3f4fea8b-07cf-4059-95db-b30b8b8ce6ea"
      },
      "source": [
        "df.index"
      ],
      "execution_count": 29,
      "outputs": [
        {
          "output_type": "execute_result",
          "data": {
            "text/plain": [
              "DatetimeIndex(['2021-04-30', '2021-05-01', '2021-05-02', '2021-05-03',\n",
              "               '2021-05-04', '2021-05-05'],\n",
              "              dtype='datetime64[ns]', freq='D')"
            ]
          },
          "metadata": {
            "tags": []
          },
          "execution_count": 29
        }
      ]
    },
    {
      "cell_type": "code",
      "metadata": {
        "colab": {
          "base_uri": "https://localhost:8080/"
        },
        "id": "xnUG3U1vmifZ",
        "outputId": "c6b44876-091e-4c89-d588-7ae63215e079"
      },
      "source": [
        "df.columns"
      ],
      "execution_count": 31,
      "outputs": [
        {
          "output_type": "execute_result",
          "data": {
            "text/plain": [
              "Index(['A', 'B', 'C', 'D'], dtype='object')"
            ]
          },
          "metadata": {
            "tags": []
          },
          "execution_count": 31
        }
      ]
    },
    {
      "cell_type": "code",
      "metadata": {
        "colab": {
          "base_uri": "https://localhost:8080/"
        },
        "id": "2z4XBTXSmjw4",
        "outputId": "de8b215d-a650-444d-b055-e6b9e8e75bd6"
      },
      "source": [
        "df.values"
      ],
      "execution_count": 32,
      "outputs": [
        {
          "output_type": "execute_result",
          "data": {
            "text/plain": [
              "array([[ 1.80664324,  0.05073824,  1.18837508, -0.69940056],\n",
              "       [-0.61453739,  0.60554042, -0.32161073,  0.30701672],\n",
              "       [-0.15822069, -0.79808071,  0.16994584, -0.06435541],\n",
              "       [ 2.16019629, -0.93103661, -0.31126264, -0.68151963],\n",
              "       [ 1.16787901, -1.11986714, -0.16373866, -0.2377563 ],\n",
              "       [-1.38431847, -1.00961142, -0.29339764, -0.76352222]])"
            ]
          },
          "metadata": {
            "tags": []
          },
          "execution_count": 32
        }
      ]
    },
    {
      "cell_type": "code",
      "metadata": {
        "colab": {
          "base_uri": "https://localhost:8080/",
          "height": 166
        },
        "id": "-5qCY6BLmqQk",
        "outputId": "b65fe8de-fec9-4b7e-dded-fba94fc450ab"
      },
      "source": [
        "df.T"
      ],
      "execution_count": 33,
      "outputs": [
        {
          "output_type": "execute_result",
          "data": {
            "text/html": [
              "<div>\n",
              "<style scoped>\n",
              "    .dataframe tbody tr th:only-of-type {\n",
              "        vertical-align: middle;\n",
              "    }\n",
              "\n",
              "    .dataframe tbody tr th {\n",
              "        vertical-align: top;\n",
              "    }\n",
              "\n",
              "    .dataframe thead th {\n",
              "        text-align: right;\n",
              "    }\n",
              "</style>\n",
              "<table border=\"1\" class=\"dataframe\">\n",
              "  <thead>\n",
              "    <tr style=\"text-align: right;\">\n",
              "      <th></th>\n",
              "      <th>2021-04-30</th>\n",
              "      <th>2021-05-01</th>\n",
              "      <th>2021-05-02</th>\n",
              "      <th>2021-05-03</th>\n",
              "      <th>2021-05-04</th>\n",
              "      <th>2021-05-05</th>\n",
              "    </tr>\n",
              "  </thead>\n",
              "  <tbody>\n",
              "    <tr>\n",
              "      <th>A</th>\n",
              "      <td>1.806643</td>\n",
              "      <td>-0.614537</td>\n",
              "      <td>-0.158221</td>\n",
              "      <td>2.160196</td>\n",
              "      <td>1.167879</td>\n",
              "      <td>-1.384318</td>\n",
              "    </tr>\n",
              "    <tr>\n",
              "      <th>B</th>\n",
              "      <td>0.050738</td>\n",
              "      <td>0.605540</td>\n",
              "      <td>-0.798081</td>\n",
              "      <td>-0.931037</td>\n",
              "      <td>-1.119867</td>\n",
              "      <td>-1.009611</td>\n",
              "    </tr>\n",
              "    <tr>\n",
              "      <th>C</th>\n",
              "      <td>1.188375</td>\n",
              "      <td>-0.321611</td>\n",
              "      <td>0.169946</td>\n",
              "      <td>-0.311263</td>\n",
              "      <td>-0.163739</td>\n",
              "      <td>-0.293398</td>\n",
              "    </tr>\n",
              "    <tr>\n",
              "      <th>D</th>\n",
              "      <td>-0.699401</td>\n",
              "      <td>0.307017</td>\n",
              "      <td>-0.064355</td>\n",
              "      <td>-0.681520</td>\n",
              "      <td>-0.237756</td>\n",
              "      <td>-0.763522</td>\n",
              "    </tr>\n",
              "  </tbody>\n",
              "</table>\n",
              "</div>"
            ],
            "text/plain": [
              "   2021-04-30  2021-05-01  2021-05-02  2021-05-03  2021-05-04  2021-05-05\n",
              "A    1.806643   -0.614537   -0.158221    2.160196    1.167879   -1.384318\n",
              "B    0.050738    0.605540   -0.798081   -0.931037   -1.119867   -1.009611\n",
              "C    1.188375   -0.321611    0.169946   -0.311263   -0.163739   -0.293398\n",
              "D   -0.699401    0.307017   -0.064355   -0.681520   -0.237756   -0.763522"
            ]
          },
          "metadata": {
            "tags": []
          },
          "execution_count": 33
        }
      ]
    },
    {
      "cell_type": "code",
      "metadata": {
        "colab": {
          "base_uri": "https://localhost:8080/",
          "height": 225
        },
        "id": "IU5RjzLcm3hB",
        "outputId": "d8921e65-72cd-4e19-cf8b-8c9073c5ebca"
      },
      "source": [
        "df"
      ],
      "execution_count": 34,
      "outputs": [
        {
          "output_type": "execute_result",
          "data": {
            "text/html": [
              "<div>\n",
              "<style scoped>\n",
              "    .dataframe tbody tr th:only-of-type {\n",
              "        vertical-align: middle;\n",
              "    }\n",
              "\n",
              "    .dataframe tbody tr th {\n",
              "        vertical-align: top;\n",
              "    }\n",
              "\n",
              "    .dataframe thead th {\n",
              "        text-align: right;\n",
              "    }\n",
              "</style>\n",
              "<table border=\"1\" class=\"dataframe\">\n",
              "  <thead>\n",
              "    <tr style=\"text-align: right;\">\n",
              "      <th></th>\n",
              "      <th>A</th>\n",
              "      <th>B</th>\n",
              "      <th>C</th>\n",
              "      <th>D</th>\n",
              "    </tr>\n",
              "  </thead>\n",
              "  <tbody>\n",
              "    <tr>\n",
              "      <th>2021-04-30</th>\n",
              "      <td>1.806643</td>\n",
              "      <td>0.050738</td>\n",
              "      <td>1.188375</td>\n",
              "      <td>-0.699401</td>\n",
              "    </tr>\n",
              "    <tr>\n",
              "      <th>2021-05-01</th>\n",
              "      <td>-0.614537</td>\n",
              "      <td>0.605540</td>\n",
              "      <td>-0.321611</td>\n",
              "      <td>0.307017</td>\n",
              "    </tr>\n",
              "    <tr>\n",
              "      <th>2021-05-02</th>\n",
              "      <td>-0.158221</td>\n",
              "      <td>-0.798081</td>\n",
              "      <td>0.169946</td>\n",
              "      <td>-0.064355</td>\n",
              "    </tr>\n",
              "    <tr>\n",
              "      <th>2021-05-03</th>\n",
              "      <td>2.160196</td>\n",
              "      <td>-0.931037</td>\n",
              "      <td>-0.311263</td>\n",
              "      <td>-0.681520</td>\n",
              "    </tr>\n",
              "    <tr>\n",
              "      <th>2021-05-04</th>\n",
              "      <td>1.167879</td>\n",
              "      <td>-1.119867</td>\n",
              "      <td>-0.163739</td>\n",
              "      <td>-0.237756</td>\n",
              "    </tr>\n",
              "    <tr>\n",
              "      <th>2021-05-05</th>\n",
              "      <td>-1.384318</td>\n",
              "      <td>-1.009611</td>\n",
              "      <td>-0.293398</td>\n",
              "      <td>-0.763522</td>\n",
              "    </tr>\n",
              "  </tbody>\n",
              "</table>\n",
              "</div>"
            ],
            "text/plain": [
              "                   A         B         C         D\n",
              "2021-04-30  1.806643  0.050738  1.188375 -0.699401\n",
              "2021-05-01 -0.614537  0.605540 -0.321611  0.307017\n",
              "2021-05-02 -0.158221 -0.798081  0.169946 -0.064355\n",
              "2021-05-03  2.160196 -0.931037 -0.311263 -0.681520\n",
              "2021-05-04  1.167879 -1.119867 -0.163739 -0.237756\n",
              "2021-05-05 -1.384318 -1.009611 -0.293398 -0.763522"
            ]
          },
          "metadata": {
            "tags": []
          },
          "execution_count": 34
        }
      ]
    },
    {
      "cell_type": "code",
      "metadata": {
        "colab": {
          "base_uri": "https://localhost:8080/",
          "height": 225
        },
        "id": "4paFUOMio1GR",
        "outputId": "023dae9f-da70-48c9-f1f0-1197de309e89"
      },
      "source": [
        "df.sort_index(axis=0, ascending= False)"
      ],
      "execution_count": 36,
      "outputs": [
        {
          "output_type": "execute_result",
          "data": {
            "text/html": [
              "<div>\n",
              "<style scoped>\n",
              "    .dataframe tbody tr th:only-of-type {\n",
              "        vertical-align: middle;\n",
              "    }\n",
              "\n",
              "    .dataframe tbody tr th {\n",
              "        vertical-align: top;\n",
              "    }\n",
              "\n",
              "    .dataframe thead th {\n",
              "        text-align: right;\n",
              "    }\n",
              "</style>\n",
              "<table border=\"1\" class=\"dataframe\">\n",
              "  <thead>\n",
              "    <tr style=\"text-align: right;\">\n",
              "      <th></th>\n",
              "      <th>A</th>\n",
              "      <th>B</th>\n",
              "      <th>C</th>\n",
              "      <th>D</th>\n",
              "    </tr>\n",
              "  </thead>\n",
              "  <tbody>\n",
              "    <tr>\n",
              "      <th>2021-05-05</th>\n",
              "      <td>-1.384318</td>\n",
              "      <td>-1.009611</td>\n",
              "      <td>-0.293398</td>\n",
              "      <td>-0.763522</td>\n",
              "    </tr>\n",
              "    <tr>\n",
              "      <th>2021-05-04</th>\n",
              "      <td>1.167879</td>\n",
              "      <td>-1.119867</td>\n",
              "      <td>-0.163739</td>\n",
              "      <td>-0.237756</td>\n",
              "    </tr>\n",
              "    <tr>\n",
              "      <th>2021-05-03</th>\n",
              "      <td>2.160196</td>\n",
              "      <td>-0.931037</td>\n",
              "      <td>-0.311263</td>\n",
              "      <td>-0.681520</td>\n",
              "    </tr>\n",
              "    <tr>\n",
              "      <th>2021-05-02</th>\n",
              "      <td>-0.158221</td>\n",
              "      <td>-0.798081</td>\n",
              "      <td>0.169946</td>\n",
              "      <td>-0.064355</td>\n",
              "    </tr>\n",
              "    <tr>\n",
              "      <th>2021-05-01</th>\n",
              "      <td>-0.614537</td>\n",
              "      <td>0.605540</td>\n",
              "      <td>-0.321611</td>\n",
              "      <td>0.307017</td>\n",
              "    </tr>\n",
              "    <tr>\n",
              "      <th>2021-04-30</th>\n",
              "      <td>1.806643</td>\n",
              "      <td>0.050738</td>\n",
              "      <td>1.188375</td>\n",
              "      <td>-0.699401</td>\n",
              "    </tr>\n",
              "  </tbody>\n",
              "</table>\n",
              "</div>"
            ],
            "text/plain": [
              "                   A         B         C         D\n",
              "2021-05-05 -1.384318 -1.009611 -0.293398 -0.763522\n",
              "2021-05-04  1.167879 -1.119867 -0.163739 -0.237756\n",
              "2021-05-03  2.160196 -0.931037 -0.311263 -0.681520\n",
              "2021-05-02 -0.158221 -0.798081  0.169946 -0.064355\n",
              "2021-05-01 -0.614537  0.605540 -0.321611  0.307017\n",
              "2021-04-30  1.806643  0.050738  1.188375 -0.699401"
            ]
          },
          "metadata": {
            "tags": []
          },
          "execution_count": 36
        }
      ]
    },
    {
      "cell_type": "code",
      "metadata": {
        "colab": {
          "base_uri": "https://localhost:8080/",
          "height": 225
        },
        "id": "3Y-OiDlvpOQO",
        "outputId": "39a04c76-f9e2-4fa5-968c-c5f83a880fce"
      },
      "source": [
        "df.sort_index(axis=1, ascending= True)"
      ],
      "execution_count": 37,
      "outputs": [
        {
          "output_type": "execute_result",
          "data": {
            "text/html": [
              "<div>\n",
              "<style scoped>\n",
              "    .dataframe tbody tr th:only-of-type {\n",
              "        vertical-align: middle;\n",
              "    }\n",
              "\n",
              "    .dataframe tbody tr th {\n",
              "        vertical-align: top;\n",
              "    }\n",
              "\n",
              "    .dataframe thead th {\n",
              "        text-align: right;\n",
              "    }\n",
              "</style>\n",
              "<table border=\"1\" class=\"dataframe\">\n",
              "  <thead>\n",
              "    <tr style=\"text-align: right;\">\n",
              "      <th></th>\n",
              "      <th>A</th>\n",
              "      <th>B</th>\n",
              "      <th>C</th>\n",
              "      <th>D</th>\n",
              "    </tr>\n",
              "  </thead>\n",
              "  <tbody>\n",
              "    <tr>\n",
              "      <th>2021-04-30</th>\n",
              "      <td>1.806643</td>\n",
              "      <td>0.050738</td>\n",
              "      <td>1.188375</td>\n",
              "      <td>-0.699401</td>\n",
              "    </tr>\n",
              "    <tr>\n",
              "      <th>2021-05-01</th>\n",
              "      <td>-0.614537</td>\n",
              "      <td>0.605540</td>\n",
              "      <td>-0.321611</td>\n",
              "      <td>0.307017</td>\n",
              "    </tr>\n",
              "    <tr>\n",
              "      <th>2021-05-02</th>\n",
              "      <td>-0.158221</td>\n",
              "      <td>-0.798081</td>\n",
              "      <td>0.169946</td>\n",
              "      <td>-0.064355</td>\n",
              "    </tr>\n",
              "    <tr>\n",
              "      <th>2021-05-03</th>\n",
              "      <td>2.160196</td>\n",
              "      <td>-0.931037</td>\n",
              "      <td>-0.311263</td>\n",
              "      <td>-0.681520</td>\n",
              "    </tr>\n",
              "    <tr>\n",
              "      <th>2021-05-04</th>\n",
              "      <td>1.167879</td>\n",
              "      <td>-1.119867</td>\n",
              "      <td>-0.163739</td>\n",
              "      <td>-0.237756</td>\n",
              "    </tr>\n",
              "    <tr>\n",
              "      <th>2021-05-05</th>\n",
              "      <td>-1.384318</td>\n",
              "      <td>-1.009611</td>\n",
              "      <td>-0.293398</td>\n",
              "      <td>-0.763522</td>\n",
              "    </tr>\n",
              "  </tbody>\n",
              "</table>\n",
              "</div>"
            ],
            "text/plain": [
              "                   A         B         C         D\n",
              "2021-04-30  1.806643  0.050738  1.188375 -0.699401\n",
              "2021-05-01 -0.614537  0.605540 -0.321611  0.307017\n",
              "2021-05-02 -0.158221 -0.798081  0.169946 -0.064355\n",
              "2021-05-03  2.160196 -0.931037 -0.311263 -0.681520\n",
              "2021-05-04  1.167879 -1.119867 -0.163739 -0.237756\n",
              "2021-05-05 -1.384318 -1.009611 -0.293398 -0.763522"
            ]
          },
          "metadata": {
            "tags": []
          },
          "execution_count": 37
        }
      ]
    },
    {
      "cell_type": "code",
      "metadata": {
        "colab": {
          "base_uri": "https://localhost:8080/",
          "height": 225
        },
        "id": "oQbik_oyp1og",
        "outputId": "10ea7387-e123-442c-e735-800d244702f4"
      },
      "source": [
        "df.sort_index(axis=1, ascending= False)"
      ],
      "execution_count": 38,
      "outputs": [
        {
          "output_type": "execute_result",
          "data": {
            "text/html": [
              "<div>\n",
              "<style scoped>\n",
              "    .dataframe tbody tr th:only-of-type {\n",
              "        vertical-align: middle;\n",
              "    }\n",
              "\n",
              "    .dataframe tbody tr th {\n",
              "        vertical-align: top;\n",
              "    }\n",
              "\n",
              "    .dataframe thead th {\n",
              "        text-align: right;\n",
              "    }\n",
              "</style>\n",
              "<table border=\"1\" class=\"dataframe\">\n",
              "  <thead>\n",
              "    <tr style=\"text-align: right;\">\n",
              "      <th></th>\n",
              "      <th>D</th>\n",
              "      <th>C</th>\n",
              "      <th>B</th>\n",
              "      <th>A</th>\n",
              "    </tr>\n",
              "  </thead>\n",
              "  <tbody>\n",
              "    <tr>\n",
              "      <th>2021-04-30</th>\n",
              "      <td>-0.699401</td>\n",
              "      <td>1.188375</td>\n",
              "      <td>0.050738</td>\n",
              "      <td>1.806643</td>\n",
              "    </tr>\n",
              "    <tr>\n",
              "      <th>2021-05-01</th>\n",
              "      <td>0.307017</td>\n",
              "      <td>-0.321611</td>\n",
              "      <td>0.605540</td>\n",
              "      <td>-0.614537</td>\n",
              "    </tr>\n",
              "    <tr>\n",
              "      <th>2021-05-02</th>\n",
              "      <td>-0.064355</td>\n",
              "      <td>0.169946</td>\n",
              "      <td>-0.798081</td>\n",
              "      <td>-0.158221</td>\n",
              "    </tr>\n",
              "    <tr>\n",
              "      <th>2021-05-03</th>\n",
              "      <td>-0.681520</td>\n",
              "      <td>-0.311263</td>\n",
              "      <td>-0.931037</td>\n",
              "      <td>2.160196</td>\n",
              "    </tr>\n",
              "    <tr>\n",
              "      <th>2021-05-04</th>\n",
              "      <td>-0.237756</td>\n",
              "      <td>-0.163739</td>\n",
              "      <td>-1.119867</td>\n",
              "      <td>1.167879</td>\n",
              "    </tr>\n",
              "    <tr>\n",
              "      <th>2021-05-05</th>\n",
              "      <td>-0.763522</td>\n",
              "      <td>-0.293398</td>\n",
              "      <td>-1.009611</td>\n",
              "      <td>-1.384318</td>\n",
              "    </tr>\n",
              "  </tbody>\n",
              "</table>\n",
              "</div>"
            ],
            "text/plain": [
              "                   D         C         B         A\n",
              "2021-04-30 -0.699401  1.188375  0.050738  1.806643\n",
              "2021-05-01  0.307017 -0.321611  0.605540 -0.614537\n",
              "2021-05-02 -0.064355  0.169946 -0.798081 -0.158221\n",
              "2021-05-03 -0.681520 -0.311263 -0.931037  2.160196\n",
              "2021-05-04 -0.237756 -0.163739 -1.119867  1.167879\n",
              "2021-05-05 -0.763522 -0.293398 -1.009611 -1.384318"
            ]
          },
          "metadata": {
            "tags": []
          },
          "execution_count": 38
        }
      ]
    },
    {
      "cell_type": "code",
      "metadata": {
        "colab": {
          "base_uri": "https://localhost:8080/",
          "height": 225
        },
        "id": "Pf4SMQVMp6aO",
        "outputId": "423a083c-c3b2-42ed-b7e0-d6be33b4305f"
      },
      "source": [
        "df"
      ],
      "execution_count": 39,
      "outputs": [
        {
          "output_type": "execute_result",
          "data": {
            "text/html": [
              "<div>\n",
              "<style scoped>\n",
              "    .dataframe tbody tr th:only-of-type {\n",
              "        vertical-align: middle;\n",
              "    }\n",
              "\n",
              "    .dataframe tbody tr th {\n",
              "        vertical-align: top;\n",
              "    }\n",
              "\n",
              "    .dataframe thead th {\n",
              "        text-align: right;\n",
              "    }\n",
              "</style>\n",
              "<table border=\"1\" class=\"dataframe\">\n",
              "  <thead>\n",
              "    <tr style=\"text-align: right;\">\n",
              "      <th></th>\n",
              "      <th>A</th>\n",
              "      <th>B</th>\n",
              "      <th>C</th>\n",
              "      <th>D</th>\n",
              "    </tr>\n",
              "  </thead>\n",
              "  <tbody>\n",
              "    <tr>\n",
              "      <th>2021-04-30</th>\n",
              "      <td>1.806643</td>\n",
              "      <td>0.050738</td>\n",
              "      <td>1.188375</td>\n",
              "      <td>-0.699401</td>\n",
              "    </tr>\n",
              "    <tr>\n",
              "      <th>2021-05-01</th>\n",
              "      <td>-0.614537</td>\n",
              "      <td>0.605540</td>\n",
              "      <td>-0.321611</td>\n",
              "      <td>0.307017</td>\n",
              "    </tr>\n",
              "    <tr>\n",
              "      <th>2021-05-02</th>\n",
              "      <td>-0.158221</td>\n",
              "      <td>-0.798081</td>\n",
              "      <td>0.169946</td>\n",
              "      <td>-0.064355</td>\n",
              "    </tr>\n",
              "    <tr>\n",
              "      <th>2021-05-03</th>\n",
              "      <td>2.160196</td>\n",
              "      <td>-0.931037</td>\n",
              "      <td>-0.311263</td>\n",
              "      <td>-0.681520</td>\n",
              "    </tr>\n",
              "    <tr>\n",
              "      <th>2021-05-04</th>\n",
              "      <td>1.167879</td>\n",
              "      <td>-1.119867</td>\n",
              "      <td>-0.163739</td>\n",
              "      <td>-0.237756</td>\n",
              "    </tr>\n",
              "    <tr>\n",
              "      <th>2021-05-05</th>\n",
              "      <td>-1.384318</td>\n",
              "      <td>-1.009611</td>\n",
              "      <td>-0.293398</td>\n",
              "      <td>-0.763522</td>\n",
              "    </tr>\n",
              "  </tbody>\n",
              "</table>\n",
              "</div>"
            ],
            "text/plain": [
              "                   A         B         C         D\n",
              "2021-04-30  1.806643  0.050738  1.188375 -0.699401\n",
              "2021-05-01 -0.614537  0.605540 -0.321611  0.307017\n",
              "2021-05-02 -0.158221 -0.798081  0.169946 -0.064355\n",
              "2021-05-03  2.160196 -0.931037 -0.311263 -0.681520\n",
              "2021-05-04  1.167879 -1.119867 -0.163739 -0.237756\n",
              "2021-05-05 -1.384318 -1.009611 -0.293398 -0.763522"
            ]
          },
          "metadata": {
            "tags": []
          },
          "execution_count": 39
        }
      ]
    },
    {
      "cell_type": "code",
      "metadata": {
        "colab": {
          "base_uri": "https://localhost:8080/",
          "height": 225
        },
        "id": "hcYorjSvqCkP",
        "outputId": "f386f32e-2089-4ca6-96ff-ad53a6b2bc87"
      },
      "source": [
        "df.sort_values(by='B')"
      ],
      "execution_count": 40,
      "outputs": [
        {
          "output_type": "execute_result",
          "data": {
            "text/html": [
              "<div>\n",
              "<style scoped>\n",
              "    .dataframe tbody tr th:only-of-type {\n",
              "        vertical-align: middle;\n",
              "    }\n",
              "\n",
              "    .dataframe tbody tr th {\n",
              "        vertical-align: top;\n",
              "    }\n",
              "\n",
              "    .dataframe thead th {\n",
              "        text-align: right;\n",
              "    }\n",
              "</style>\n",
              "<table border=\"1\" class=\"dataframe\">\n",
              "  <thead>\n",
              "    <tr style=\"text-align: right;\">\n",
              "      <th></th>\n",
              "      <th>A</th>\n",
              "      <th>B</th>\n",
              "      <th>C</th>\n",
              "      <th>D</th>\n",
              "    </tr>\n",
              "  </thead>\n",
              "  <tbody>\n",
              "    <tr>\n",
              "      <th>2021-05-04</th>\n",
              "      <td>1.167879</td>\n",
              "      <td>-1.119867</td>\n",
              "      <td>-0.163739</td>\n",
              "      <td>-0.237756</td>\n",
              "    </tr>\n",
              "    <tr>\n",
              "      <th>2021-05-05</th>\n",
              "      <td>-1.384318</td>\n",
              "      <td>-1.009611</td>\n",
              "      <td>-0.293398</td>\n",
              "      <td>-0.763522</td>\n",
              "    </tr>\n",
              "    <tr>\n",
              "      <th>2021-05-03</th>\n",
              "      <td>2.160196</td>\n",
              "      <td>-0.931037</td>\n",
              "      <td>-0.311263</td>\n",
              "      <td>-0.681520</td>\n",
              "    </tr>\n",
              "    <tr>\n",
              "      <th>2021-05-02</th>\n",
              "      <td>-0.158221</td>\n",
              "      <td>-0.798081</td>\n",
              "      <td>0.169946</td>\n",
              "      <td>-0.064355</td>\n",
              "    </tr>\n",
              "    <tr>\n",
              "      <th>2021-04-30</th>\n",
              "      <td>1.806643</td>\n",
              "      <td>0.050738</td>\n",
              "      <td>1.188375</td>\n",
              "      <td>-0.699401</td>\n",
              "    </tr>\n",
              "    <tr>\n",
              "      <th>2021-05-01</th>\n",
              "      <td>-0.614537</td>\n",
              "      <td>0.605540</td>\n",
              "      <td>-0.321611</td>\n",
              "      <td>0.307017</td>\n",
              "    </tr>\n",
              "  </tbody>\n",
              "</table>\n",
              "</div>"
            ],
            "text/plain": [
              "                   A         B         C         D\n",
              "2021-05-04  1.167879 -1.119867 -0.163739 -0.237756\n",
              "2021-05-05 -1.384318 -1.009611 -0.293398 -0.763522\n",
              "2021-05-03  2.160196 -0.931037 -0.311263 -0.681520\n",
              "2021-05-02 -0.158221 -0.798081  0.169946 -0.064355\n",
              "2021-04-30  1.806643  0.050738  1.188375 -0.699401\n",
              "2021-05-01 -0.614537  0.605540 -0.321611  0.307017"
            ]
          },
          "metadata": {
            "tags": []
          },
          "execution_count": 40
        }
      ]
    },
    {
      "cell_type": "code",
      "metadata": {
        "colab": {
          "base_uri": "https://localhost:8080/"
        },
        "id": "w2plimNRqSzG",
        "outputId": "5af04112-9548-48d3-f3a4-fa89a905df10"
      },
      "source": [
        "dates"
      ],
      "execution_count": 41,
      "outputs": [
        {
          "output_type": "execute_result",
          "data": {
            "text/plain": [
              "DatetimeIndex(['2021-04-30', '2021-05-01', '2021-05-02', '2021-05-03',\n",
              "               '2021-05-04', '2021-05-05'],\n",
              "              dtype='datetime64[ns]', freq='D')"
            ]
          },
          "metadata": {
            "tags": []
          },
          "execution_count": 41
        }
      ]
    },
    {
      "cell_type": "code",
      "metadata": {
        "colab": {
          "base_uri": "https://localhost:8080/",
          "height": 225
        },
        "id": "sRM8dbvyqeH7",
        "outputId": "2f361809-bd33-4b9d-861f-f6df7853b719"
      },
      "source": [
        "df"
      ],
      "execution_count": 42,
      "outputs": [
        {
          "output_type": "execute_result",
          "data": {
            "text/html": [
              "<div>\n",
              "<style scoped>\n",
              "    .dataframe tbody tr th:only-of-type {\n",
              "        vertical-align: middle;\n",
              "    }\n",
              "\n",
              "    .dataframe tbody tr th {\n",
              "        vertical-align: top;\n",
              "    }\n",
              "\n",
              "    .dataframe thead th {\n",
              "        text-align: right;\n",
              "    }\n",
              "</style>\n",
              "<table border=\"1\" class=\"dataframe\">\n",
              "  <thead>\n",
              "    <tr style=\"text-align: right;\">\n",
              "      <th></th>\n",
              "      <th>A</th>\n",
              "      <th>B</th>\n",
              "      <th>C</th>\n",
              "      <th>D</th>\n",
              "    </tr>\n",
              "  </thead>\n",
              "  <tbody>\n",
              "    <tr>\n",
              "      <th>2021-04-30</th>\n",
              "      <td>1.806643</td>\n",
              "      <td>0.050738</td>\n",
              "      <td>1.188375</td>\n",
              "      <td>-0.699401</td>\n",
              "    </tr>\n",
              "    <tr>\n",
              "      <th>2021-05-01</th>\n",
              "      <td>-0.614537</td>\n",
              "      <td>0.605540</td>\n",
              "      <td>-0.321611</td>\n",
              "      <td>0.307017</td>\n",
              "    </tr>\n",
              "    <tr>\n",
              "      <th>2021-05-02</th>\n",
              "      <td>-0.158221</td>\n",
              "      <td>-0.798081</td>\n",
              "      <td>0.169946</td>\n",
              "      <td>-0.064355</td>\n",
              "    </tr>\n",
              "    <tr>\n",
              "      <th>2021-05-03</th>\n",
              "      <td>2.160196</td>\n",
              "      <td>-0.931037</td>\n",
              "      <td>-0.311263</td>\n",
              "      <td>-0.681520</td>\n",
              "    </tr>\n",
              "    <tr>\n",
              "      <th>2021-05-04</th>\n",
              "      <td>1.167879</td>\n",
              "      <td>-1.119867</td>\n",
              "      <td>-0.163739</td>\n",
              "      <td>-0.237756</td>\n",
              "    </tr>\n",
              "    <tr>\n",
              "      <th>2021-05-05</th>\n",
              "      <td>-1.384318</td>\n",
              "      <td>-1.009611</td>\n",
              "      <td>-0.293398</td>\n",
              "      <td>-0.763522</td>\n",
              "    </tr>\n",
              "  </tbody>\n",
              "</table>\n",
              "</div>"
            ],
            "text/plain": [
              "                   A         B         C         D\n",
              "2021-04-30  1.806643  0.050738  1.188375 -0.699401\n",
              "2021-05-01 -0.614537  0.605540 -0.321611  0.307017\n",
              "2021-05-02 -0.158221 -0.798081  0.169946 -0.064355\n",
              "2021-05-03  2.160196 -0.931037 -0.311263 -0.681520\n",
              "2021-05-04  1.167879 -1.119867 -0.163739 -0.237756\n",
              "2021-05-05 -1.384318 -1.009611 -0.293398 -0.763522"
            ]
          },
          "metadata": {
            "tags": []
          },
          "execution_count": 42
        }
      ]
    },
    {
      "cell_type": "code",
      "metadata": {
        "colab": {
          "base_uri": "https://localhost:8080/"
        },
        "id": "d0xpLZYcqfCp",
        "outputId": "4d486064-5c67-4af6-ad7e-c5f3f049b677"
      },
      "source": [
        "df['C']"
      ],
      "execution_count": 45,
      "outputs": [
        {
          "output_type": "execute_result",
          "data": {
            "text/plain": [
              "2021-04-30    1.188375\n",
              "2021-05-01   -0.321611\n",
              "2021-05-02    0.169946\n",
              "2021-05-03   -0.311263\n",
              "2021-05-04   -0.163739\n",
              "2021-05-05   -0.293398\n",
              "Freq: D, Name: C, dtype: float64"
            ]
          },
          "metadata": {
            "tags": []
          },
          "execution_count": 45
        }
      ]
    },
    {
      "cell_type": "code",
      "metadata": {
        "colab": {
          "base_uri": "https://localhost:8080/",
          "height": 225
        },
        "id": "hsf2fkitqp6d",
        "outputId": "d37d411c-4184-4641-a6d7-8e6ece110b36"
      },
      "source": [
        "df[ ['A','C','D'] ]\n"
      ],
      "execution_count": 48,
      "outputs": [
        {
          "output_type": "execute_result",
          "data": {
            "text/html": [
              "<div>\n",
              "<style scoped>\n",
              "    .dataframe tbody tr th:only-of-type {\n",
              "        vertical-align: middle;\n",
              "    }\n",
              "\n",
              "    .dataframe tbody tr th {\n",
              "        vertical-align: top;\n",
              "    }\n",
              "\n",
              "    .dataframe thead th {\n",
              "        text-align: right;\n",
              "    }\n",
              "</style>\n",
              "<table border=\"1\" class=\"dataframe\">\n",
              "  <thead>\n",
              "    <tr style=\"text-align: right;\">\n",
              "      <th></th>\n",
              "      <th>A</th>\n",
              "      <th>C</th>\n",
              "      <th>D</th>\n",
              "    </tr>\n",
              "  </thead>\n",
              "  <tbody>\n",
              "    <tr>\n",
              "      <th>2021-04-30</th>\n",
              "      <td>1.806643</td>\n",
              "      <td>1.188375</td>\n",
              "      <td>-0.699401</td>\n",
              "    </tr>\n",
              "    <tr>\n",
              "      <th>2021-05-01</th>\n",
              "      <td>-0.614537</td>\n",
              "      <td>-0.321611</td>\n",
              "      <td>0.307017</td>\n",
              "    </tr>\n",
              "    <tr>\n",
              "      <th>2021-05-02</th>\n",
              "      <td>-0.158221</td>\n",
              "      <td>0.169946</td>\n",
              "      <td>-0.064355</td>\n",
              "    </tr>\n",
              "    <tr>\n",
              "      <th>2021-05-03</th>\n",
              "      <td>2.160196</td>\n",
              "      <td>-0.311263</td>\n",
              "      <td>-0.681520</td>\n",
              "    </tr>\n",
              "    <tr>\n",
              "      <th>2021-05-04</th>\n",
              "      <td>1.167879</td>\n",
              "      <td>-0.163739</td>\n",
              "      <td>-0.237756</td>\n",
              "    </tr>\n",
              "    <tr>\n",
              "      <th>2021-05-05</th>\n",
              "      <td>-1.384318</td>\n",
              "      <td>-0.293398</td>\n",
              "      <td>-0.763522</td>\n",
              "    </tr>\n",
              "  </tbody>\n",
              "</table>\n",
              "</div>"
            ],
            "text/plain": [
              "                   A         C         D\n",
              "2021-04-30  1.806643  1.188375 -0.699401\n",
              "2021-05-01 -0.614537 -0.321611  0.307017\n",
              "2021-05-02 -0.158221  0.169946 -0.064355\n",
              "2021-05-03  2.160196 -0.311263 -0.681520\n",
              "2021-05-04  1.167879 -0.163739 -0.237756\n",
              "2021-05-05 -1.384318 -0.293398 -0.763522"
            ]
          },
          "metadata": {
            "tags": []
          },
          "execution_count": 48
        }
      ]
    },
    {
      "cell_type": "code",
      "metadata": {
        "colab": {
          "base_uri": "https://localhost:8080/",
          "height": 225
        },
        "id": "gvQjrBbbrR-D",
        "outputId": "ecfec264-3774-4ad8-87a4-99ba6113f307"
      },
      "source": [
        "df\n"
      ],
      "execution_count": 49,
      "outputs": [
        {
          "output_type": "execute_result",
          "data": {
            "text/html": [
              "<div>\n",
              "<style scoped>\n",
              "    .dataframe tbody tr th:only-of-type {\n",
              "        vertical-align: middle;\n",
              "    }\n",
              "\n",
              "    .dataframe tbody tr th {\n",
              "        vertical-align: top;\n",
              "    }\n",
              "\n",
              "    .dataframe thead th {\n",
              "        text-align: right;\n",
              "    }\n",
              "</style>\n",
              "<table border=\"1\" class=\"dataframe\">\n",
              "  <thead>\n",
              "    <tr style=\"text-align: right;\">\n",
              "      <th></th>\n",
              "      <th>A</th>\n",
              "      <th>B</th>\n",
              "      <th>C</th>\n",
              "      <th>D</th>\n",
              "    </tr>\n",
              "  </thead>\n",
              "  <tbody>\n",
              "    <tr>\n",
              "      <th>2021-04-30</th>\n",
              "      <td>1.806643</td>\n",
              "      <td>0.050738</td>\n",
              "      <td>1.188375</td>\n",
              "      <td>-0.699401</td>\n",
              "    </tr>\n",
              "    <tr>\n",
              "      <th>2021-05-01</th>\n",
              "      <td>-0.614537</td>\n",
              "      <td>0.605540</td>\n",
              "      <td>-0.321611</td>\n",
              "      <td>0.307017</td>\n",
              "    </tr>\n",
              "    <tr>\n",
              "      <th>2021-05-02</th>\n",
              "      <td>-0.158221</td>\n",
              "      <td>-0.798081</td>\n",
              "      <td>0.169946</td>\n",
              "      <td>-0.064355</td>\n",
              "    </tr>\n",
              "    <tr>\n",
              "      <th>2021-05-03</th>\n",
              "      <td>2.160196</td>\n",
              "      <td>-0.931037</td>\n",
              "      <td>-0.311263</td>\n",
              "      <td>-0.681520</td>\n",
              "    </tr>\n",
              "    <tr>\n",
              "      <th>2021-05-04</th>\n",
              "      <td>1.167879</td>\n",
              "      <td>-1.119867</td>\n",
              "      <td>-0.163739</td>\n",
              "      <td>-0.237756</td>\n",
              "    </tr>\n",
              "    <tr>\n",
              "      <th>2021-05-05</th>\n",
              "      <td>-1.384318</td>\n",
              "      <td>-1.009611</td>\n",
              "      <td>-0.293398</td>\n",
              "      <td>-0.763522</td>\n",
              "    </tr>\n",
              "  </tbody>\n",
              "</table>\n",
              "</div>"
            ],
            "text/plain": [
              "                   A         B         C         D\n",
              "2021-04-30  1.806643  0.050738  1.188375 -0.699401\n",
              "2021-05-01 -0.614537  0.605540 -0.321611  0.307017\n",
              "2021-05-02 -0.158221 -0.798081  0.169946 -0.064355\n",
              "2021-05-03  2.160196 -0.931037 -0.311263 -0.681520\n",
              "2021-05-04  1.167879 -1.119867 -0.163739 -0.237756\n",
              "2021-05-05 -1.384318 -1.009611 -0.293398 -0.763522"
            ]
          },
          "metadata": {
            "tags": []
          },
          "execution_count": 49
        }
      ]
    },
    {
      "cell_type": "code",
      "metadata": {
        "colab": {
          "base_uri": "https://localhost:8080/",
          "height": 136
        },
        "id": "t91Uu_qjrg7t",
        "outputId": "6fd6e634-9984-41e6-d266-44ec764e321b"
      },
      "source": [
        "df[0:3]"
      ],
      "execution_count": 51,
      "outputs": [
        {
          "output_type": "execute_result",
          "data": {
            "text/html": [
              "<div>\n",
              "<style scoped>\n",
              "    .dataframe tbody tr th:only-of-type {\n",
              "        vertical-align: middle;\n",
              "    }\n",
              "\n",
              "    .dataframe tbody tr th {\n",
              "        vertical-align: top;\n",
              "    }\n",
              "\n",
              "    .dataframe thead th {\n",
              "        text-align: right;\n",
              "    }\n",
              "</style>\n",
              "<table border=\"1\" class=\"dataframe\">\n",
              "  <thead>\n",
              "    <tr style=\"text-align: right;\">\n",
              "      <th></th>\n",
              "      <th>A</th>\n",
              "      <th>B</th>\n",
              "      <th>C</th>\n",
              "      <th>D</th>\n",
              "    </tr>\n",
              "  </thead>\n",
              "  <tbody>\n",
              "    <tr>\n",
              "      <th>2021-04-30</th>\n",
              "      <td>1.806643</td>\n",
              "      <td>0.050738</td>\n",
              "      <td>1.188375</td>\n",
              "      <td>-0.699401</td>\n",
              "    </tr>\n",
              "    <tr>\n",
              "      <th>2021-05-01</th>\n",
              "      <td>-0.614537</td>\n",
              "      <td>0.605540</td>\n",
              "      <td>-0.321611</td>\n",
              "      <td>0.307017</td>\n",
              "    </tr>\n",
              "    <tr>\n",
              "      <th>2021-05-02</th>\n",
              "      <td>-0.158221</td>\n",
              "      <td>-0.798081</td>\n",
              "      <td>0.169946</td>\n",
              "      <td>-0.064355</td>\n",
              "    </tr>\n",
              "  </tbody>\n",
              "</table>\n",
              "</div>"
            ],
            "text/plain": [
              "                   A         B         C         D\n",
              "2021-04-30  1.806643  0.050738  1.188375 -0.699401\n",
              "2021-05-01 -0.614537  0.605540 -0.321611  0.307017\n",
              "2021-05-02 -0.158221 -0.798081  0.169946 -0.064355"
            ]
          },
          "metadata": {
            "tags": []
          },
          "execution_count": 51
        }
      ]
    },
    {
      "cell_type": "code",
      "metadata": {
        "colab": {
          "base_uri": "https://localhost:8080/",
          "height": 106
        },
        "id": "gxr1S-CRrjQT",
        "outputId": "f4378c0d-ad75-4a70-b1c4-cac276317416"
      },
      "source": [
        "df['20210430' : '20210501']"
      ],
      "execution_count": 52,
      "outputs": [
        {
          "output_type": "execute_result",
          "data": {
            "text/html": [
              "<div>\n",
              "<style scoped>\n",
              "    .dataframe tbody tr th:only-of-type {\n",
              "        vertical-align: middle;\n",
              "    }\n",
              "\n",
              "    .dataframe tbody tr th {\n",
              "        vertical-align: top;\n",
              "    }\n",
              "\n",
              "    .dataframe thead th {\n",
              "        text-align: right;\n",
              "    }\n",
              "</style>\n",
              "<table border=\"1\" class=\"dataframe\">\n",
              "  <thead>\n",
              "    <tr style=\"text-align: right;\">\n",
              "      <th></th>\n",
              "      <th>A</th>\n",
              "      <th>B</th>\n",
              "      <th>C</th>\n",
              "      <th>D</th>\n",
              "    </tr>\n",
              "  </thead>\n",
              "  <tbody>\n",
              "    <tr>\n",
              "      <th>2021-04-30</th>\n",
              "      <td>1.806643</td>\n",
              "      <td>0.050738</td>\n",
              "      <td>1.188375</td>\n",
              "      <td>-0.699401</td>\n",
              "    </tr>\n",
              "    <tr>\n",
              "      <th>2021-05-01</th>\n",
              "      <td>-0.614537</td>\n",
              "      <td>0.605540</td>\n",
              "      <td>-0.321611</td>\n",
              "      <td>0.307017</td>\n",
              "    </tr>\n",
              "  </tbody>\n",
              "</table>\n",
              "</div>"
            ],
            "text/plain": [
              "                   A         B         C         D\n",
              "2021-04-30  1.806643  0.050738  1.188375 -0.699401\n",
              "2021-05-01 -0.614537  0.605540 -0.321611  0.307017"
            ]
          },
          "metadata": {
            "tags": []
          },
          "execution_count": 52
        }
      ]
    },
    {
      "cell_type": "code",
      "metadata": {
        "colab": {
          "base_uri": "https://localhost:8080/",
          "height": 77
        },
        "id": "80NM0OzksMfq",
        "outputId": "1217c1b1-57d3-425a-98f9-b24ce96a73a4"
      },
      "source": [
        "df['20210430' : '20210430']"
      ],
      "execution_count": 53,
      "outputs": [
        {
          "output_type": "execute_result",
          "data": {
            "text/html": [
              "<div>\n",
              "<style scoped>\n",
              "    .dataframe tbody tr th:only-of-type {\n",
              "        vertical-align: middle;\n",
              "    }\n",
              "\n",
              "    .dataframe tbody tr th {\n",
              "        vertical-align: top;\n",
              "    }\n",
              "\n",
              "    .dataframe thead th {\n",
              "        text-align: right;\n",
              "    }\n",
              "</style>\n",
              "<table border=\"1\" class=\"dataframe\">\n",
              "  <thead>\n",
              "    <tr style=\"text-align: right;\">\n",
              "      <th></th>\n",
              "      <th>A</th>\n",
              "      <th>B</th>\n",
              "      <th>C</th>\n",
              "      <th>D</th>\n",
              "    </tr>\n",
              "  </thead>\n",
              "  <tbody>\n",
              "    <tr>\n",
              "      <th>2021-04-30</th>\n",
              "      <td>1.806643</td>\n",
              "      <td>0.050738</td>\n",
              "      <td>1.188375</td>\n",
              "      <td>-0.699401</td>\n",
              "    </tr>\n",
              "  </tbody>\n",
              "</table>\n",
              "</div>"
            ],
            "text/plain": [
              "                   A         B         C         D\n",
              "2021-04-30  1.806643  0.050738  1.188375 -0.699401"
            ]
          },
          "metadata": {
            "tags": []
          },
          "execution_count": 53
        }
      ]
    },
    {
      "cell_type": "code",
      "metadata": {
        "colab": {
          "base_uri": "https://localhost:8080/"
        },
        "id": "SAOP9oR7sYP7",
        "outputId": "d3bce253-314a-434f-bd8f-a02bf176d85b"
      },
      "source": [
        "df.loc[dates[0]]"
      ],
      "execution_count": 54,
      "outputs": [
        {
          "output_type": "execute_result",
          "data": {
            "text/plain": [
              "A    1.806643\n",
              "B    0.050738\n",
              "C    1.188375\n",
              "D   -0.699401\n",
              "Name: 2021-04-30 00:00:00, dtype: float64"
            ]
          },
          "metadata": {
            "tags": []
          },
          "execution_count": 54
        }
      ]
    },
    {
      "cell_type": "code",
      "metadata": {
        "colab": {
          "base_uri": "https://localhost:8080/"
        },
        "id": "2o30vnZ2snW9",
        "outputId": "04e38965-f3c8-4f5b-a0cc-8c3805e7f527"
      },
      "source": [
        "df.loc['20210430']"
      ],
      "execution_count": 57,
      "outputs": [
        {
          "output_type": "execute_result",
          "data": {
            "text/plain": [
              "A    1.806643\n",
              "B    0.050738\n",
              "C    1.188375\n",
              "D   -0.699401\n",
              "Name: 2021-04-30 00:00:00, dtype: float64"
            ]
          },
          "metadata": {
            "tags": []
          },
          "execution_count": 57
        }
      ]
    },
    {
      "cell_type": "code",
      "metadata": {
        "colab": {
          "base_uri": "https://localhost:8080/"
        },
        "id": "4oOnAYXYs7KZ",
        "outputId": "c269db8e-c351-4ea3-86bc-87a89392d4b1"
      },
      "source": [
        "df['A']"
      ],
      "execution_count": 59,
      "outputs": [
        {
          "output_type": "execute_result",
          "data": {
            "text/plain": [
              "2021-04-30    1.806643\n",
              "2021-05-01   -0.614537\n",
              "2021-05-02   -0.158221\n",
              "2021-05-03    2.160196\n",
              "2021-05-04    1.167879\n",
              "2021-05-05   -1.384318\n",
              "Freq: D, Name: A, dtype: float64"
            ]
          },
          "metadata": {
            "tags": []
          },
          "execution_count": 59
        }
      ]
    },
    {
      "cell_type": "code",
      "metadata": {
        "colab": {
          "base_uri": "https://localhost:8080/"
        },
        "id": "RHNUlMoQtIKV",
        "outputId": "16e660a8-5999-454b-ec93-0da4fe3a77c6"
      },
      "source": [
        "df.loc['20210430':'20210503','A']"
      ],
      "execution_count": 60,
      "outputs": [
        {
          "output_type": "execute_result",
          "data": {
            "text/plain": [
              "2021-04-30    1.806643\n",
              "2021-05-01   -0.614537\n",
              "2021-05-02   -0.158221\n",
              "2021-05-03    2.160196\n",
              "Freq: D, Name: A, dtype: float64"
            ]
          },
          "metadata": {
            "tags": []
          },
          "execution_count": 60
        }
      ]
    },
    {
      "cell_type": "code",
      "metadata": {
        "colab": {
          "base_uri": "https://localhost:8080/",
          "height": 166
        },
        "id": "U6Lfd8xFtpiK",
        "outputId": "0341f0e5-5fc6-4439-b86e-9d1d332fa5b2"
      },
      "source": [
        "df.loc['20210430':'20210503',['A','C','D']]"
      ],
      "execution_count": 68,
      "outputs": [
        {
          "output_type": "execute_result",
          "data": {
            "text/html": [
              "<div>\n",
              "<style scoped>\n",
              "    .dataframe tbody tr th:only-of-type {\n",
              "        vertical-align: middle;\n",
              "    }\n",
              "\n",
              "    .dataframe tbody tr th {\n",
              "        vertical-align: top;\n",
              "    }\n",
              "\n",
              "    .dataframe thead th {\n",
              "        text-align: right;\n",
              "    }\n",
              "</style>\n",
              "<table border=\"1\" class=\"dataframe\">\n",
              "  <thead>\n",
              "    <tr style=\"text-align: right;\">\n",
              "      <th></th>\n",
              "      <th>A</th>\n",
              "      <th>C</th>\n",
              "      <th>D</th>\n",
              "    </tr>\n",
              "  </thead>\n",
              "  <tbody>\n",
              "    <tr>\n",
              "      <th>2021-04-30</th>\n",
              "      <td>1.806643</td>\n",
              "      <td>1.188375</td>\n",
              "      <td>-0.699401</td>\n",
              "    </tr>\n",
              "    <tr>\n",
              "      <th>2021-05-01</th>\n",
              "      <td>-0.614537</td>\n",
              "      <td>-0.321611</td>\n",
              "      <td>0.307017</td>\n",
              "    </tr>\n",
              "    <tr>\n",
              "      <th>2021-05-02</th>\n",
              "      <td>-0.158221</td>\n",
              "      <td>0.169946</td>\n",
              "      <td>-0.064355</td>\n",
              "    </tr>\n",
              "    <tr>\n",
              "      <th>2021-05-03</th>\n",
              "      <td>2.160196</td>\n",
              "      <td>-0.311263</td>\n",
              "      <td>-0.681520</td>\n",
              "    </tr>\n",
              "  </tbody>\n",
              "</table>\n",
              "</div>"
            ],
            "text/plain": [
              "                   A         C         D\n",
              "2021-04-30  1.806643  1.188375 -0.699401\n",
              "2021-05-01 -0.614537 -0.321611  0.307017\n",
              "2021-05-02 -0.158221  0.169946 -0.064355\n",
              "2021-05-03  2.160196 -0.311263 -0.681520"
            ]
          },
          "metadata": {
            "tags": []
          },
          "execution_count": 68
        }
      ]
    },
    {
      "cell_type": "code",
      "metadata": {
        "colab": {
          "base_uri": "https://localhost:8080/",
          "height": 225
        },
        "id": "EHIRT98vt2SN",
        "outputId": "87461da8-3f02-427e-8833-d9ca59327848"
      },
      "source": [
        "df"
      ],
      "execution_count": 72,
      "outputs": [
        {
          "output_type": "execute_result",
          "data": {
            "text/html": [
              "<div>\n",
              "<style scoped>\n",
              "    .dataframe tbody tr th:only-of-type {\n",
              "        vertical-align: middle;\n",
              "    }\n",
              "\n",
              "    .dataframe tbody tr th {\n",
              "        vertical-align: top;\n",
              "    }\n",
              "\n",
              "    .dataframe thead th {\n",
              "        text-align: right;\n",
              "    }\n",
              "</style>\n",
              "<table border=\"1\" class=\"dataframe\">\n",
              "  <thead>\n",
              "    <tr style=\"text-align: right;\">\n",
              "      <th></th>\n",
              "      <th>A</th>\n",
              "      <th>B</th>\n",
              "      <th>C</th>\n",
              "      <th>D</th>\n",
              "    </tr>\n",
              "  </thead>\n",
              "  <tbody>\n",
              "    <tr>\n",
              "      <th>2021-04-30</th>\n",
              "      <td>1.806643</td>\n",
              "      <td>0.050738</td>\n",
              "      <td>1.188375</td>\n",
              "      <td>-0.699401</td>\n",
              "    </tr>\n",
              "    <tr>\n",
              "      <th>2021-05-01</th>\n",
              "      <td>-0.614537</td>\n",
              "      <td>0.605540</td>\n",
              "      <td>-0.321611</td>\n",
              "      <td>0.307017</td>\n",
              "    </tr>\n",
              "    <tr>\n",
              "      <th>2021-05-02</th>\n",
              "      <td>-0.158221</td>\n",
              "      <td>-0.798081</td>\n",
              "      <td>0.169946</td>\n",
              "      <td>-0.064355</td>\n",
              "    </tr>\n",
              "    <tr>\n",
              "      <th>2021-05-03</th>\n",
              "      <td>2.160196</td>\n",
              "      <td>-0.931037</td>\n",
              "      <td>-0.311263</td>\n",
              "      <td>-0.681520</td>\n",
              "    </tr>\n",
              "    <tr>\n",
              "      <th>2021-05-04</th>\n",
              "      <td>1.167879</td>\n",
              "      <td>-1.119867</td>\n",
              "      <td>-0.163739</td>\n",
              "      <td>-0.237756</td>\n",
              "    </tr>\n",
              "    <tr>\n",
              "      <th>2021-05-05</th>\n",
              "      <td>-1.384318</td>\n",
              "      <td>-1.009611</td>\n",
              "      <td>-0.293398</td>\n",
              "      <td>-0.763522</td>\n",
              "    </tr>\n",
              "  </tbody>\n",
              "</table>\n",
              "</div>"
            ],
            "text/plain": [
              "                   A         B         C         D\n",
              "2021-04-30  1.806643  0.050738  1.188375 -0.699401\n",
              "2021-05-01 -0.614537  0.605540 -0.321611  0.307017\n",
              "2021-05-02 -0.158221 -0.798081  0.169946 -0.064355\n",
              "2021-05-03  2.160196 -0.931037 -0.311263 -0.681520\n",
              "2021-05-04  1.167879 -1.119867 -0.163739 -0.237756\n",
              "2021-05-05 -1.384318 -1.009611 -0.293398 -0.763522"
            ]
          },
          "metadata": {
            "tags": []
          },
          "execution_count": 72
        }
      ]
    },
    {
      "cell_type": "code",
      "metadata": {
        "colab": {
          "base_uri": "https://localhost:8080/",
          "height": 136
        },
        "id": "7kUS-Ej0uGIC",
        "outputId": "6a3bf1c9-d7af-4143-bfb0-8cb530160a57"
      },
      "source": [
        "df.iloc[0:3,1:3]"
      ],
      "execution_count": 71,
      "outputs": [
        {
          "output_type": "execute_result",
          "data": {
            "text/html": [
              "<div>\n",
              "<style scoped>\n",
              "    .dataframe tbody tr th:only-of-type {\n",
              "        vertical-align: middle;\n",
              "    }\n",
              "\n",
              "    .dataframe tbody tr th {\n",
              "        vertical-align: top;\n",
              "    }\n",
              "\n",
              "    .dataframe thead th {\n",
              "        text-align: right;\n",
              "    }\n",
              "</style>\n",
              "<table border=\"1\" class=\"dataframe\">\n",
              "  <thead>\n",
              "    <tr style=\"text-align: right;\">\n",
              "      <th></th>\n",
              "      <th>B</th>\n",
              "      <th>C</th>\n",
              "    </tr>\n",
              "  </thead>\n",
              "  <tbody>\n",
              "    <tr>\n",
              "      <th>2021-04-30</th>\n",
              "      <td>0.050738</td>\n",
              "      <td>1.188375</td>\n",
              "    </tr>\n",
              "    <tr>\n",
              "      <th>2021-05-01</th>\n",
              "      <td>0.605540</td>\n",
              "      <td>-0.321611</td>\n",
              "    </tr>\n",
              "    <tr>\n",
              "      <th>2021-05-02</th>\n",
              "      <td>-0.798081</td>\n",
              "      <td>0.169946</td>\n",
              "    </tr>\n",
              "  </tbody>\n",
              "</table>\n",
              "</div>"
            ],
            "text/plain": [
              "                   B         C\n",
              "2021-04-30  0.050738  1.188375\n",
              "2021-05-01  0.605540 -0.321611\n",
              "2021-05-02 -0.798081  0.169946"
            ]
          },
          "metadata": {
            "tags": []
          },
          "execution_count": 71
        }
      ]
    },
    {
      "cell_type": "code",
      "metadata": {
        "colab": {
          "base_uri": "https://localhost:8080/",
          "height": 225
        },
        "id": "lnN1zUuQuJq3",
        "outputId": "5c08255d-cdfe-4702-d211-26f36f1aa2c9"
      },
      "source": [
        "df\n"
      ],
      "execution_count": 73,
      "outputs": [
        {
          "output_type": "execute_result",
          "data": {
            "text/html": [
              "<div>\n",
              "<style scoped>\n",
              "    .dataframe tbody tr th:only-of-type {\n",
              "        vertical-align: middle;\n",
              "    }\n",
              "\n",
              "    .dataframe tbody tr th {\n",
              "        vertical-align: top;\n",
              "    }\n",
              "\n",
              "    .dataframe thead th {\n",
              "        text-align: right;\n",
              "    }\n",
              "</style>\n",
              "<table border=\"1\" class=\"dataframe\">\n",
              "  <thead>\n",
              "    <tr style=\"text-align: right;\">\n",
              "      <th></th>\n",
              "      <th>A</th>\n",
              "      <th>B</th>\n",
              "      <th>C</th>\n",
              "      <th>D</th>\n",
              "    </tr>\n",
              "  </thead>\n",
              "  <tbody>\n",
              "    <tr>\n",
              "      <th>2021-04-30</th>\n",
              "      <td>1.806643</td>\n",
              "      <td>0.050738</td>\n",
              "      <td>1.188375</td>\n",
              "      <td>-0.699401</td>\n",
              "    </tr>\n",
              "    <tr>\n",
              "      <th>2021-05-01</th>\n",
              "      <td>-0.614537</td>\n",
              "      <td>0.605540</td>\n",
              "      <td>-0.321611</td>\n",
              "      <td>0.307017</td>\n",
              "    </tr>\n",
              "    <tr>\n",
              "      <th>2021-05-02</th>\n",
              "      <td>-0.158221</td>\n",
              "      <td>-0.798081</td>\n",
              "      <td>0.169946</td>\n",
              "      <td>-0.064355</td>\n",
              "    </tr>\n",
              "    <tr>\n",
              "      <th>2021-05-03</th>\n",
              "      <td>2.160196</td>\n",
              "      <td>-0.931037</td>\n",
              "      <td>-0.311263</td>\n",
              "      <td>-0.681520</td>\n",
              "    </tr>\n",
              "    <tr>\n",
              "      <th>2021-05-04</th>\n",
              "      <td>1.167879</td>\n",
              "      <td>-1.119867</td>\n",
              "      <td>-0.163739</td>\n",
              "      <td>-0.237756</td>\n",
              "    </tr>\n",
              "    <tr>\n",
              "      <th>2021-05-05</th>\n",
              "      <td>-1.384318</td>\n",
              "      <td>-1.009611</td>\n",
              "      <td>-0.293398</td>\n",
              "      <td>-0.763522</td>\n",
              "    </tr>\n",
              "  </tbody>\n",
              "</table>\n",
              "</div>"
            ],
            "text/plain": [
              "                   A         B         C         D\n",
              "2021-04-30  1.806643  0.050738  1.188375 -0.699401\n",
              "2021-05-01 -0.614537  0.605540 -0.321611  0.307017\n",
              "2021-05-02 -0.158221 -0.798081  0.169946 -0.064355\n",
              "2021-05-03  2.160196 -0.931037 -0.311263 -0.681520\n",
              "2021-05-04  1.167879 -1.119867 -0.163739 -0.237756\n",
              "2021-05-05 -1.384318 -1.009611 -0.293398 -0.763522"
            ]
          },
          "metadata": {
            "tags": []
          },
          "execution_count": 73
        }
      ]
    },
    {
      "cell_type": "code",
      "metadata": {
        "colab": {
          "base_uri": "https://localhost:8080/"
        },
        "id": "DnxpGeR0uP-c",
        "outputId": "ff87f637-54a9-4be9-ad23-b0a8a924a3b0"
      },
      "source": [
        "df.A "
      ],
      "execution_count": 75,
      "outputs": [
        {
          "output_type": "execute_result",
          "data": {
            "text/plain": [
              "2021-04-30     True\n",
              "2021-05-01    False\n",
              "2021-05-02    False\n",
              "2021-05-03     True\n",
              "2021-05-04     True\n",
              "2021-05-05    False\n",
              "Freq: D, Name: A, dtype: bool"
            ]
          },
          "metadata": {
            "tags": []
          },
          "execution_count": 75
        }
      ]
    },
    {
      "cell_type": "code",
      "metadata": {
        "colab": {
          "base_uri": "https://localhost:8080/"
        },
        "id": "6nLJf7ygubV1",
        "outputId": "b6698a01-5119-4775-d5c3-539ed9d0cabb"
      },
      "source": [
        "df.A > 0"
      ],
      "execution_count": 77,
      "outputs": [
        {
          "output_type": "execute_result",
          "data": {
            "text/plain": [
              "2021-04-30     True\n",
              "2021-05-01    False\n",
              "2021-05-02    False\n",
              "2021-05-03     True\n",
              "2021-05-04     True\n",
              "2021-05-05    False\n",
              "Freq: D, Name: A, dtype: bool"
            ]
          },
          "metadata": {
            "tags": []
          },
          "execution_count": 77
        }
      ]
    },
    {
      "cell_type": "code",
      "metadata": {
        "colab": {
          "base_uri": "https://localhost:8080/",
          "height": 136
        },
        "id": "Fzb13eXhvrES",
        "outputId": "3e41ca81-f2f6-499f-ca51-b1567bf984b2"
      },
      "source": [
        "df[df.A>0]"
      ],
      "execution_count": 78,
      "outputs": [
        {
          "output_type": "execute_result",
          "data": {
            "text/html": [
              "<div>\n",
              "<style scoped>\n",
              "    .dataframe tbody tr th:only-of-type {\n",
              "        vertical-align: middle;\n",
              "    }\n",
              "\n",
              "    .dataframe tbody tr th {\n",
              "        vertical-align: top;\n",
              "    }\n",
              "\n",
              "    .dataframe thead th {\n",
              "        text-align: right;\n",
              "    }\n",
              "</style>\n",
              "<table border=\"1\" class=\"dataframe\">\n",
              "  <thead>\n",
              "    <tr style=\"text-align: right;\">\n",
              "      <th></th>\n",
              "      <th>A</th>\n",
              "      <th>B</th>\n",
              "      <th>C</th>\n",
              "      <th>D</th>\n",
              "    </tr>\n",
              "  </thead>\n",
              "  <tbody>\n",
              "    <tr>\n",
              "      <th>2021-04-30</th>\n",
              "      <td>1.806643</td>\n",
              "      <td>0.050738</td>\n",
              "      <td>1.188375</td>\n",
              "      <td>-0.699401</td>\n",
              "    </tr>\n",
              "    <tr>\n",
              "      <th>2021-05-03</th>\n",
              "      <td>2.160196</td>\n",
              "      <td>-0.931037</td>\n",
              "      <td>-0.311263</td>\n",
              "      <td>-0.681520</td>\n",
              "    </tr>\n",
              "    <tr>\n",
              "      <th>2021-05-04</th>\n",
              "      <td>1.167879</td>\n",
              "      <td>-1.119867</td>\n",
              "      <td>-0.163739</td>\n",
              "      <td>-0.237756</td>\n",
              "    </tr>\n",
              "  </tbody>\n",
              "</table>\n",
              "</div>"
            ],
            "text/plain": [
              "                   A         B         C         D\n",
              "2021-04-30  1.806643  0.050738  1.188375 -0.699401\n",
              "2021-05-03  2.160196 -0.931037 -0.311263 -0.681520\n",
              "2021-05-04  1.167879 -1.119867 -0.163739 -0.237756"
            ]
          },
          "metadata": {
            "tags": []
          },
          "execution_count": 78
        }
      ]
    },
    {
      "cell_type": "code",
      "metadata": {
        "colab": {
          "base_uri": "https://localhost:8080/",
          "height": 225
        },
        "id": "zLbSAEX4vzAl",
        "outputId": "6f483479-1d14-49e9-8143-23b3f4204ce9"
      },
      "source": [
        "df>0"
      ],
      "execution_count": 79,
      "outputs": [
        {
          "output_type": "execute_result",
          "data": {
            "text/html": [
              "<div>\n",
              "<style scoped>\n",
              "    .dataframe tbody tr th:only-of-type {\n",
              "        vertical-align: middle;\n",
              "    }\n",
              "\n",
              "    .dataframe tbody tr th {\n",
              "        vertical-align: top;\n",
              "    }\n",
              "\n",
              "    .dataframe thead th {\n",
              "        text-align: right;\n",
              "    }\n",
              "</style>\n",
              "<table border=\"1\" class=\"dataframe\">\n",
              "  <thead>\n",
              "    <tr style=\"text-align: right;\">\n",
              "      <th></th>\n",
              "      <th>A</th>\n",
              "      <th>B</th>\n",
              "      <th>C</th>\n",
              "      <th>D</th>\n",
              "    </tr>\n",
              "  </thead>\n",
              "  <tbody>\n",
              "    <tr>\n",
              "      <th>2021-04-30</th>\n",
              "      <td>True</td>\n",
              "      <td>True</td>\n",
              "      <td>True</td>\n",
              "      <td>False</td>\n",
              "    </tr>\n",
              "    <tr>\n",
              "      <th>2021-05-01</th>\n",
              "      <td>False</td>\n",
              "      <td>True</td>\n",
              "      <td>False</td>\n",
              "      <td>True</td>\n",
              "    </tr>\n",
              "    <tr>\n",
              "      <th>2021-05-02</th>\n",
              "      <td>False</td>\n",
              "      <td>False</td>\n",
              "      <td>True</td>\n",
              "      <td>False</td>\n",
              "    </tr>\n",
              "    <tr>\n",
              "      <th>2021-05-03</th>\n",
              "      <td>True</td>\n",
              "      <td>False</td>\n",
              "      <td>False</td>\n",
              "      <td>False</td>\n",
              "    </tr>\n",
              "    <tr>\n",
              "      <th>2021-05-04</th>\n",
              "      <td>True</td>\n",
              "      <td>False</td>\n",
              "      <td>False</td>\n",
              "      <td>False</td>\n",
              "    </tr>\n",
              "    <tr>\n",
              "      <th>2021-05-05</th>\n",
              "      <td>False</td>\n",
              "      <td>False</td>\n",
              "      <td>False</td>\n",
              "      <td>False</td>\n",
              "    </tr>\n",
              "  </tbody>\n",
              "</table>\n",
              "</div>"
            ],
            "text/plain": [
              "                A      B      C      D\n",
              "2021-04-30   True   True   True  False\n",
              "2021-05-01  False   True  False   True\n",
              "2021-05-02  False  False   True  False\n",
              "2021-05-03   True  False  False  False\n",
              "2021-05-04   True  False  False  False\n",
              "2021-05-05  False  False  False  False"
            ]
          },
          "metadata": {
            "tags": []
          },
          "execution_count": 79
        }
      ]
    },
    {
      "cell_type": "code",
      "metadata": {
        "colab": {
          "base_uri": "https://localhost:8080/",
          "height": 225
        },
        "id": "zoBYW4nnwJn6",
        "outputId": "c8a56a2a-befd-437c-8bd0-f179b7c324a6"
      },
      "source": [
        "df[ df>0]"
      ],
      "execution_count": 82,
      "outputs": [
        {
          "output_type": "execute_result",
          "data": {
            "text/html": [
              "<div>\n",
              "<style scoped>\n",
              "    .dataframe tbody tr th:only-of-type {\n",
              "        vertical-align: middle;\n",
              "    }\n",
              "\n",
              "    .dataframe tbody tr th {\n",
              "        vertical-align: top;\n",
              "    }\n",
              "\n",
              "    .dataframe thead th {\n",
              "        text-align: right;\n",
              "    }\n",
              "</style>\n",
              "<table border=\"1\" class=\"dataframe\">\n",
              "  <thead>\n",
              "    <tr style=\"text-align: right;\">\n",
              "      <th></th>\n",
              "      <th>A</th>\n",
              "      <th>B</th>\n",
              "      <th>C</th>\n",
              "      <th>D</th>\n",
              "    </tr>\n",
              "  </thead>\n",
              "  <tbody>\n",
              "    <tr>\n",
              "      <th>2021-04-30</th>\n",
              "      <td>1.806643</td>\n",
              "      <td>0.050738</td>\n",
              "      <td>1.188375</td>\n",
              "      <td>NaN</td>\n",
              "    </tr>\n",
              "    <tr>\n",
              "      <th>2021-05-01</th>\n",
              "      <td>NaN</td>\n",
              "      <td>0.605540</td>\n",
              "      <td>NaN</td>\n",
              "      <td>0.307017</td>\n",
              "    </tr>\n",
              "    <tr>\n",
              "      <th>2021-05-02</th>\n",
              "      <td>NaN</td>\n",
              "      <td>NaN</td>\n",
              "      <td>0.169946</td>\n",
              "      <td>NaN</td>\n",
              "    </tr>\n",
              "    <tr>\n",
              "      <th>2021-05-03</th>\n",
              "      <td>2.160196</td>\n",
              "      <td>NaN</td>\n",
              "      <td>NaN</td>\n",
              "      <td>NaN</td>\n",
              "    </tr>\n",
              "    <tr>\n",
              "      <th>2021-05-04</th>\n",
              "      <td>1.167879</td>\n",
              "      <td>NaN</td>\n",
              "      <td>NaN</td>\n",
              "      <td>NaN</td>\n",
              "    </tr>\n",
              "    <tr>\n",
              "      <th>2021-05-05</th>\n",
              "      <td>NaN</td>\n",
              "      <td>NaN</td>\n",
              "      <td>NaN</td>\n",
              "      <td>NaN</td>\n",
              "    </tr>\n",
              "  </tbody>\n",
              "</table>\n",
              "</div>"
            ],
            "text/plain": [
              "                   A         B         C         D\n",
              "2021-04-30  1.806643  0.050738  1.188375       NaN\n",
              "2021-05-01       NaN  0.605540       NaN  0.307017\n",
              "2021-05-02       NaN       NaN  0.169946       NaN\n",
              "2021-05-03  2.160196       NaN       NaN       NaN\n",
              "2021-05-04  1.167879       NaN       NaN       NaN\n",
              "2021-05-05       NaN       NaN       NaN       NaN"
            ]
          },
          "metadata": {
            "tags": []
          },
          "execution_count": 82
        }
      ]
    },
    {
      "cell_type": "code",
      "metadata": {
        "id": "l_UdyJbxwMTj"
      },
      "source": [
        ""
      ],
      "execution_count": null,
      "outputs": []
    }
  ]
}
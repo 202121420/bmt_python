{
  "nbformat": 4,
  "nbformat_minor": 0,
  "metadata": {
    "colab": {
      "name": "4주차_21420.ipynb",
      "provenance": [],
      "collapsed_sections": [],
      "authorship_tag": "ABX9TyNy3m3G6WJVKKyAWcSlbCEx",
      "include_colab_link": true
    },
    "kernelspec": {
      "name": "python3",
      "display_name": "Python 3"
    },
    "language_info": {
      "name": "python"
    }
  },
  "cells": [
    {
      "cell_type": "markdown",
      "metadata": {
        "id": "view-in-github",
        "colab_type": "text"
      },
      "source": [
        "<a href=\"https://colab.research.google.com/github/202121420/bmt_python/blob/main/4%EC%A3%BC%EC%B0%A8_21420.ipynb\" target=\"_parent\"><img src=\"https://colab.research.google.com/assets/colab-badge.svg\" alt=\"Open In Colab\"/></a>"
      ]
    },
    {
      "cell_type": "code",
      "metadata": {
        "colab": {
          "base_uri": "https://localhost:8080/"
        },
        "id": "GRSds9kLNIwQ",
        "outputId": "8a9c9824-2cc4-4a75-89c0-7bd1f0d2a055"
      },
      "source": [
        "print('hello world', end='' )\n",
        "print('busan')"
      ],
      "execution_count": 3,
      "outputs": [
        {
          "output_type": "stream",
          "text": [
            "hello worldbusan\n"
          ],
          "name": "stdout"
        }
      ]
    },
    {
      "cell_type": "code",
      "metadata": {
        "colab": {
          "base_uri": "https://localhost:8080/"
        },
        "id": "HpM5fhc3OoN3",
        "outputId": "1c2affb8-ac37-49dd-a043-e73e774bcf59"
      },
      "source": [
        "print('hello\\n')\n",
        "print('hello'*3)\n"
      ],
      "execution_count": 8,
      "outputs": [
        {
          "output_type": "stream",
          "text": [
            "hello\n",
            "\n",
            "hellohellohello\n"
          ],
          "name": "stdout"
        }
      ]
    },
    {
      "cell_type": "code",
      "metadata": {
        "colab": {
          "base_uri": "https://localhost:8080/"
        },
        "id": "_vCUFfTPQYOf",
        "outputId": "85a7342e-350a-4a95-b05b-a80550ea2288"
      },
      "source": [
        "print('hello\\nPython')"
      ],
      "execution_count": 9,
      "outputs": [
        {
          "output_type": "stream",
          "text": [
            "hello\n",
            "Python\n"
          ],
          "name": "stdout"
        }
      ]
    },
    {
      "cell_type": "code",
      "metadata": {
        "colab": {
          "base_uri": "https://localhost:8080/"
        },
        "id": "ltH2YwwyRq-u",
        "outputId": "0616e9b3-e45c-4bd1-dabe-0428b4311774"
      },
      "source": [
        "x = input()"
      ],
      "execution_count": 12,
      "outputs": [
        {
          "output_type": "stream",
          "text": [
            "안녕하세요\n"
          ],
          "name": "stdout"
        }
      ]
    },
    {
      "cell_type": "code",
      "metadata": {
        "colab": {
          "base_uri": "https://localhost:8080/",
          "height": 36
        },
        "id": "bv5BtBUkR_qu",
        "outputId": "cbc5eab2-9aec-4178-df52-d9cce02e71bd"
      },
      "source": [
        "x"
      ],
      "execution_count": 13,
      "outputs": [
        {
          "output_type": "execute_result",
          "data": {
            "application/vnd.google.colaboratory.intrinsic+json": {
              "type": "string"
            },
            "text/plain": [
              "'안녕하세요'"
            ]
          },
          "metadata": {
            "tags": []
          },
          "execution_count": 13
        }
      ]
    },
    {
      "cell_type": "code",
      "metadata": {
        "colab": {
          "base_uri": "https://localhost:8080/"
        },
        "id": "q8TbCM2rSW6u",
        "outputId": "14778fd8-0243-4b80-de25-4b5ca957839d"
      },
      "source": [
        "x = input('x입력 : ')\n",
        "y = input('y입력 : ')"
      ],
      "execution_count": 14,
      "outputs": [
        {
          "output_type": "stream",
          "text": [
            "x입력 : 10\n",
            "y입력 : 20\n"
          ],
          "name": "stdout"
        }
      ]
    },
    {
      "cell_type": "code",
      "metadata": {
        "colab": {
          "base_uri": "https://localhost:8080/"
        },
        "id": "55DUPuW8SgbO",
        "outputId": "c331b852-27b3-4e11-b7e9-2c358f6bcaa8"
      },
      "source": [
        "print(x, '+', y, '=', int(x)+int(y))\n"
      ],
      "execution_count": 15,
      "outputs": [
        {
          "output_type": "stream",
          "text": [
            "10 + 20 = 30\n"
          ],
          "name": "stdout"
        }
      ]
    },
    {
      "cell_type": "code",
      "metadata": {
        "colab": {
          "base_uri": "https://localhost:8080/"
        },
        "id": "ZmnipMrMS1y-",
        "outputId": "b498a691-6579-42e2-8989-4873b3f1d054"
      },
      "source": [
        "#두 정수 입력 받아 사칙연산 프로그램 \n",
        "\n",
        "#입력부 \n",
        "\n",
        "x = int(input('x 정수입력 : '))\n",
        "y = int(input('y 정수입력 : '))"
      ],
      "execution_count": 16,
      "outputs": [
        {
          "output_type": "stream",
          "text": [
            "x 정수입력 : 10\n",
            "y 정수입력 : 20\n"
          ],
          "name": "stdout"
        }
      ]
    },
    {
      "cell_type": "code",
      "metadata": {
        "colab": {
          "base_uri": "https://localhost:8080/",
          "height": 139
        },
        "id": "Ss-6xesdTrlW",
        "outputId": "492331f5-6a56-4411-83a1-48dbb883b085"
      },
      "source": [
        "print(x,'+',y,'=' ,x+y))\n",
        "print(x,'-',y,'=',x-y))\n",
        "print(x,'x',y,'=',x*y))\n",
        "print(x,'//',y,'=',x//y))\n",
        "print(x,'%',y,'=',x%y))"
      ],
      "execution_count": 18,
      "outputs": [
        {
          "output_type": "error",
          "ename": "SyntaxError",
          "evalue": "ignored",
          "traceback": [
            "\u001b[0;36m  File \u001b[0;32m\"<ipython-input-18-f8b7f54a0e42>\"\u001b[0;36m, line \u001b[0;32m1\u001b[0m\n\u001b[0;31m    print(x,'+',y,'=' ,x+y))\u001b[0m\n\u001b[0m                           ^\u001b[0m\n\u001b[0;31mSyntaxError\u001b[0m\u001b[0;31m:\u001b[0m invalid syntax\n"
          ]
        }
      ]
    },
    {
      "cell_type": "code",
      "metadata": {
        "colab": {
          "base_uri": "https://localhost:8080/"
        },
        "id": "g3-U2DrgUbnO",
        "outputId": "5ee49e5c-0e10-4f16-879a-12232dc1b853"
      },
      "source": [
        "# bmi 지수 구하기 \n",
        "#입력부\n",
        "\n",
        "weight = int(input('weight(kg) : '))\n",
        "height = float(input('height(cm) : '))"
      ],
      "execution_count": 20,
      "outputs": [
        {
          "output_type": "stream",
          "text": [
            "weight(kg) : 100\n",
            "height(cm) : 181\n"
          ],
          "name": "stdout"
        }
      ]
    },
    {
      "cell_type": "code",
      "metadata": {
        "id": "RjgWryu_Uxme"
      },
      "source": [
        "BMI = weight / (height/100)**2"
      ],
      "execution_count": 21,
      "outputs": []
    },
    {
      "cell_type": "code",
      "metadata": {
        "colab": {
          "base_uri": "https://localhost:8080/"
        },
        "id": "fEbvDrEbVB89",
        "outputId": "845d0e9c-4054-4ce0-a76d-12f68dabae57"
      },
      "source": [
        "print(f'BMI : {BMI:.2f}')"
      ],
      "execution_count": 24,
      "outputs": [
        {
          "output_type": "stream",
          "text": [
            "BMI : 30.52\n"
          ],
          "name": "stdout"
        }
      ]
    },
    {
      "cell_type": "code",
      "metadata": {
        "colab": {
          "base_uri": "https://localhost:8080/"
        },
        "id": "6s6q6SDiVMdu",
        "outputId": "51ffd3bb-ec40-45a2-d21e-b3b42f605b3d"
      },
      "source": [
        "\n",
        "    # bmi 지수 구하기 \n",
        "#입력부\n",
        "\n",
        "weight = int(input('weight(kg) : '))\n",
        "height = float(input('height(cm) : '))\n",
        "\n",
        "BMI = weight / (height/100)**2\n",
        "\n",
        "print(f'BMI : {BMI:.2f}')\n",
        "\n",
        "if BMI > 20:\n",
        "  print('넌 살좀 빼야돼 😂😂 ')\n",
        "elif BMI>30:\n",
        "  print('넌 헬스장 가야돼 😘')\n",
        "elif BMI>0 and BMI <=20:\n",
        "    print('넌 괜찮아')\n",
        "else : \n",
        "    print('뭔가 이상한데')\n"
      ],
      "execution_count": 30,
      "outputs": [
        {
          "output_type": "stream",
          "text": [
            "weight(kg) : 100\n",
            "height(cm) : 181\n",
            "BMI : 30.52\n",
            "넌 살좀 빼야돼 😂😂 \n"
          ],
          "name": "stdout"
        }
      ]
    },
    {
      "cell_type": "code",
      "metadata": {
        "id": "qqTKOxilVsBt"
      },
      "source": [
        "x = 'helloPython'"
      ],
      "execution_count": 41,
      "outputs": []
    },
    {
      "cell_type": "code",
      "metadata": {
        "colab": {
          "base_uri": "https://localhost:8080/"
        },
        "id": "6FaU8L2Vappt",
        "outputId": "25f963bb-2b03-4c47-be6b-ab567d37ab34"
      },
      "source": [
        "len(x)"
      ],
      "execution_count": 35,
      "outputs": [
        {
          "output_type": "execute_result",
          "data": {
            "text/plain": [
              "11"
            ]
          },
          "metadata": {
            "tags": []
          },
          "execution_count": 35
        }
      ]
    },
    {
      "cell_type": "code",
      "metadata": {
        "colab": {
          "base_uri": "https://localhost:8080/"
        },
        "id": "eGQ4XBU1bORs",
        "outputId": "8bacac4b-4106-424f-e332-12236d9857f0"
      },
      "source": [
        "x.count('H')"
      ],
      "execution_count": 37,
      "outputs": [
        {
          "output_type": "execute_result",
          "data": {
            "text/plain": [
              "0"
            ]
          },
          "metadata": {
            "tags": []
          },
          "execution_count": 37
        }
      ]
    },
    {
      "cell_type": "code",
      "metadata": {
        "colab": {
          "base_uri": "https://localhost:8080/"
        },
        "id": "lnkOSvx_bizc",
        "outputId": "89b322e9-b082-4532-e965-d6b432442dd9"
      },
      "source": [
        "x.find('H')"
      ],
      "execution_count": 43,
      "outputs": [
        {
          "output_type": "execute_result",
          "data": {
            "text/plain": [
              "-1"
            ]
          },
          "metadata": {
            "tags": []
          },
          "execution_count": 43
        }
      ]
    },
    {
      "cell_type": "code",
      "metadata": {
        "colab": {
          "base_uri": "https://localhost:8080/",
          "height": 176
        },
        "id": "1Tjp2Ab1cF1c",
        "outputId": "843ef9b0-307e-4206-80f1-28f5e66170a1"
      },
      "source": [
        "x.index('Pyton')"
      ],
      "execution_count": 46,
      "outputs": [
        {
          "output_type": "error",
          "ename": "ValueError",
          "evalue": "ignored",
          "traceback": [
            "\u001b[0;31m---------------------------------------------------------------------------\u001b[0m",
            "\u001b[0;31mValueError\u001b[0m                                Traceback (most recent call last)",
            "\u001b[0;32m<ipython-input-46-980ae676401e>\u001b[0m in \u001b[0;36m<module>\u001b[0;34m()\u001b[0m\n\u001b[0;32m----> 1\u001b[0;31m \u001b[0mx\u001b[0m\u001b[0;34m.\u001b[0m\u001b[0mindex\u001b[0m\u001b[0;34m(\u001b[0m\u001b[0;34m'Pyton'\u001b[0m\u001b[0;34m)\u001b[0m\u001b[0;34m\u001b[0m\u001b[0;34m\u001b[0m\u001b[0m\n\u001b[0m",
            "\u001b[0;31mValueError\u001b[0m: substring not found"
          ]
        }
      ]
    },
    {
      "cell_type": "code",
      "metadata": {
        "colab": {
          "base_uri": "https://localhost:8080/",
          "height": 36
        },
        "id": "hlTHNqxtciUM",
        "outputId": "bf962661-30f9-4357-b45a-54641a2261ef"
      },
      "source": [
        "'-'.join(x)"
      ],
      "execution_count": 47,
      "outputs": [
        {
          "output_type": "execute_result",
          "data": {
            "application/vnd.google.colaboratory.intrinsic+json": {
              "type": "string"
            },
            "text/plain": [
              "'h-e-l-l-o-P-y-t-h-o-n'"
            ]
          },
          "metadata": {
            "tags": []
          },
          "execution_count": 47
        }
      ]
    },
    {
      "cell_type": "code",
      "metadata": {
        "colab": {
          "base_uri": "https://localhost:8080/",
          "height": 36
        },
        "id": "ESeDURKCc60c",
        "outputId": "0c6b3d0f-34c2-4d25-84c3-b7c04f9ae103"
      },
      "source": [
        "x.upper()"
      ],
      "execution_count": 48,
      "outputs": [
        {
          "output_type": "execute_result",
          "data": {
            "application/vnd.google.colaboratory.intrinsic+json": {
              "type": "string"
            },
            "text/plain": [
              "'HELLOPYTHON'"
            ]
          },
          "metadata": {
            "tags": []
          },
          "execution_count": 48
        }
      ]
    },
    {
      "cell_type": "code",
      "metadata": {
        "colab": {
          "base_uri": "https://localhost:8080/",
          "height": 36
        },
        "id": "KXJ40W3ydB8s",
        "outputId": "be75c0c7-585c-4089-b5a8-a16129fe7c45"
      },
      "source": [
        "x.replace('o','😘')"
      ],
      "execution_count": 51,
      "outputs": [
        {
          "output_type": "execute_result",
          "data": {
            "application/vnd.google.colaboratory.intrinsic+json": {
              "type": "string"
            },
            "text/plain": [
              "'hell😘Pyth😘n'"
            ]
          },
          "metadata": {
            "tags": []
          },
          "execution_count": 51
        }
      ]
    },
    {
      "cell_type": "code",
      "metadata": {
        "colab": {
          "base_uri": "https://localhost:8080/",
          "height": 36
        },
        "id": "m6NztTF-dWcc",
        "outputId": "b702c8cc-991b-4c9d-a7da-6063a3093a80"
      },
      "source": [
        "x"
      ],
      "execution_count": 52,
      "outputs": [
        {
          "output_type": "execute_result",
          "data": {
            "application/vnd.google.colaboratory.intrinsic+json": {
              "type": "string"
            },
            "text/plain": [
              "'helloPython'"
            ]
          },
          "metadata": {
            "tags": []
          },
          "execution_count": 52
        }
      ]
    },
    {
      "cell_type": "code",
      "metadata": {
        "colab": {
          "base_uri": "https://localhost:8080/",
          "height": 139
        },
        "id": "bxsADWpndqk7",
        "outputId": "656db2e0-4b48-495a-e0d7-9898b8d8ac0d"
      },
      "source": [
        "y.split('-')\n",
        "print(f'y.split(\"-\"):{'y.split('-')'}"
      ],
      "execution_count": 54,
      "outputs": [
        {
          "output_type": "error",
          "ename": "SyntaxError",
          "evalue": "ignored",
          "traceback": [
            "\u001b[0;36m  File \u001b[0;32m\"<ipython-input-54-cd52c1167308>\"\u001b[0;36m, line \u001b[0;32m2\u001b[0m\n\u001b[0;31m    print(f'y.split(\"-\"):{'y.split('-')'}\u001b[0m\n\u001b[0m                           ^\u001b[0m\n\u001b[0;31mSyntaxError\u001b[0m\u001b[0;31m:\u001b[0m invalid syntax\n"
          ]
        }
      ]
    },
    {
      "cell_type": "code",
      "metadata": {
        "colab": {
          "base_uri": "https://localhost:8080/",
          "height": 251
        },
        "id": "Cobq5QgCd6GM",
        "outputId": "989da6f9-805f-4d1d-c9dd-e97326f3c54e"
      },
      "source": [
        "corona = '코로나바이러스(영어: Coronavirus, 문화어: 코로나비루스)는 코로나바이러스과(영어: Coronaviridae)의 코로나바이러스아과(Coronavirinae)에 속하는 RNA 바이러스로,[1][2] 사람과 동물의 호흡기와 소화기계 감염을 유발한다. 주로 점막전염(粘膜感染), 비말전파(飛沫傳播)로 쉽게 감염되며, 사람에게는 일반적으로 경미한 호흡기 감염을 일으키지만 치명적인 감염을 유발하기도 하며, 소와 돼지는 설사, 닭은 호흡기 질환이 발생하기도 한다.\n",
        "print('-'*50)\n",
        "sentence = corona count('.')\n",
        "print(f'{sentense} 계의 문장으로 이루어짐') :\n",
        "corona.replace('\\n, ')split\n",
        "str = input('찾으려는 단어를 입력하시요 : ')\n",
        "cnt = corona.count(str)\n",
        "print(f\"'{str}'(은/는) {cnt} 번 언급됨\")"
      ],
      "execution_count": 60,
      "outputs": [
        {
          "output_type": "error",
          "ename": "SyntaxError",
          "evalue": "ignored",
          "traceback": [
            "\u001b[0;36m  File \u001b[0;32m\"<ipython-input-60-b7d6b38851d3>\"\u001b[0;36m, line \u001b[0;32m1\u001b[0m\n\u001b[0;31m    corona = '코로나바이러스(영어: Coronavirus, 문화어: 코로나비루스)는 코로나바이러스과(영어: Coronaviridae)의 코로나바이러스아과(Coronavirinae)에 속하는 RNA 바이러스로,[1][2] 사람과 동물의 호흡기와 소화기계 감염을 유발한다. 주로 점막전염(粘膜感染), 비말전파(飛沫傳播)로 쉽게 감염되며, 사람에게는 일반적으로 경미한 호흡기 감염을 일으키지만 치명적인 감염을 유발하기도 하며, 소와 돼지는 설사, 닭은 호흡기 질환이 발생하기도 한다.\u001b[0m\n\u001b[0m                                                                                                                                                                                                                                                                                 ^\u001b[0m\n\u001b[0;31mSyntaxError\u001b[0m\u001b[0;31m:\u001b[0m EOL while scanning string literal\n"
          ]
        }
      ]
    },
    {
      "cell_type": "code",
      "metadata": {
        "colab": {
          "base_uri": "https://localhost:8080/"
        },
        "id": "YMSuvktre3Jr",
        "outputId": "b6eab5d5-4293-4431-b116-469481778752"
      },
      "source": [
        "anysong = '''\n",
        "왜들 그리 다운돼있어? 뭐가 문제야 say something\n",
        "분위기가 겁나 싸해 요새는 이런 게 유행인가\n",
        "왜들 그리 재미없어? 아 그건 나도 마찬가지\n",
        "Tell me what I got to do 급한 대로 블루투스 켜\n",
        "아무 노래나 일단 틀어 아무거나 신나는 걸로\n",
        "아무렇게나 춤춰 아무렇지 않아 보이게\n",
        "아무 생각 하기 싫어 아무개로 살래 잠시\n",
        "I'm sick and tired of my every day, keep it up 한 곡 더\n",
        "아무 노래나 일단 틀어 아무렴 어때 it's so boring\n",
        "아무래도 refresh가 시급한 듯해 쌓여가 스트레스가\n",
        "배꼽 빠질 만큼만 폭소하고 싶은 날이야\n",
        "What up my dawgs? 어디야 너희 올 때 병맥주랑 까까 몇 개 사 와 uh\n",
        "클럽은 구미가 잘 안 당겨 우리 집 거실로 빨랑 모여\n",
        "외부인은 요령껏 차단 시켜 밤새 수다 떨 시간도 모자라\n",
        "누군 힘들어 죽겠고 누군 축제 괜히 싱숭생숭 I want my youth back\n",
        "좀 전까지 왁자지껄 하다 한 명 두 명씩 자릴 떠\n",
        "왜들 그리 다운돼있어? 뭐가 문제야 say something\n",
        "분위기가 겁나 싸해 요새는 이런 게 유행인가\n",
        "왜들 그리 재미없어? 아 그건 나도 마찬가지\n",
        "Tell me what I got to do 급한 대로 블루투스 켜\n",
        "아무 노래나 일단 틀어 아무거나 신나는 걸로\n",
        "아무렇게나 춤춰 아무렇지 않아 보이게\n",
        "아무 생각 하기 싫어 아무개로 살래 잠시\n",
        "I'm sick and tired of my every day, keep it up 한 곡 더\n",
        "떠나질 못할 바엔\n",
        "창밖은 쳐다도 안 봐\n",
        "회까닥해서 추태를 부려도\n",
        "No worries at all 이미지 왜 챙겨 그래 봤자 우리끼린데\n",
        "Ooh 늦기 전에 막판 스퍼트 20대가 얼마 안 남았어\n",
        "편한 옷으로 갈아입어 you look nice, get 'em high\n",
        "얼핏 보면 그냥 코미디 이렇게 무해한 파티 처음이지?\n",
        "만감이 교차하는 새벽 2시경 술잔과 감정이 소용돌이쳐\n",
        "왜들 그리 다운돼있어? 뭐가 문제야 say something\n",
        "분위기가 겁나 싸해 요새는 이런 게 유행인가\n",
        "왜들 그리 재미없어? 아 그건 나도 마찬가지\n",
        "Tell me what I got to do 급한 대로 블루투스 켜\n",
        "아무 노래나 일단 틀어 아무거나 신나는 걸로\n",
        "아무렇게나 춤춰 아무렇지 않아 보이게\n",
        "아무 생각 하기 싫어 아무개로 살래 잠시\n",
        "I'm sick and tired of my every day, keep it up 한 곡 더\n",
        "아무 노래나 일단\n",
        "La-la-la, la-la-la, la-la-la-la\n",
        "La-la-la, la-la-la, la-la-la-la (You ain't gonna get a day like this)\n",
        "아무 노래 아무 노래 아무 노래나 틀어봐\n",
        "아무 노래 아무 노래 아무 노래나 틀어봐 (Yeah)\n",
        "아무 노래 (ooh) 아무 노래 아무 노래나 틀어봐\n",
        "아무 노래 아무 노래 아무 노래나 KOZ\n",
        "'''\n",
        "\n",
        "song = anysong.count('\\n')\n",
        "print(f'{song-1} 개의 문장으로 이루어짐')\n",
        "\n",
        "print(anysong.replace('\\n', ', ').split('\\n'))\n",
        "print('-'*50)\n",
        "\n",
        "str = input('찾으려는 단어를 입력하세요 : ')\n",
        "cnt = anysong.count(str)\n",
        "print(f\"'{str}'(은/는) {cnt} 번 언급됨.\")"
      ],
      "execution_count": 62,
      "outputs": [
        {
          "output_type": "stream",
          "text": [
            "47 개의 문장으로 이루어짐\n",
            "[\", 왜들 그리 다운돼있어? 뭐가 문제야 say something, 분위기가 겁나 싸해 요새는 이런 게 유행인가, 왜들 그리 재미없어? 아 그건 나도 마찬가지, Tell me what I got to do 급한 대로 블루투스 켜, 아무 노래나 일단 틀어 아무거나 신나는 걸로, 아무렇게나 춤춰 아무렇지 않아 보이게, 아무 생각 하기 싫어 아무개로 살래 잠시, I'm sick and tired of my every day, keep it up 한 곡 더, 아무 노래나 일단 틀어 아무렴 어때 it's so boring, 아무래도 refresh가 시급한 듯해 쌓여가 스트레스가, 배꼽 빠질 만큼만 폭소하고 싶은 날이야, What up my dawgs? 어디야 너희 올 때 병맥주랑 까까 몇 개 사 와 uh, 클럽은 구미가 잘 안 당겨 우리 집 거실로 빨랑 모여, 외부인은 요령껏 차단 시켜 밤새 수다 떨 시간도 모자라, 누군 힘들어 죽겠고 누군 축제 괜히 싱숭생숭 I want my youth back, 좀 전까지 왁자지껄 하다 한 명 두 명씩 자릴 떠, 왜들 그리 다운돼있어? 뭐가 문제야 say something, 분위기가 겁나 싸해 요새는 이런 게 유행인가, 왜들 그리 재미없어? 아 그건 나도 마찬가지, Tell me what I got to do 급한 대로 블루투스 켜, 아무 노래나 일단 틀어 아무거나 신나는 걸로, 아무렇게나 춤춰 아무렇지 않아 보이게, 아무 생각 하기 싫어 아무개로 살래 잠시, I'm sick and tired of my every day, keep it up 한 곡 더, 떠나질 못할 바엔, 창밖은 쳐다도 안 봐, 회까닥해서 추태를 부려도, No worries at all 이미지 왜 챙겨 그래 봤자 우리끼린데, Ooh 늦기 전에 막판 스퍼트 20대가 얼마 안 남았어, 편한 옷으로 갈아입어 you look nice, get 'em high, 얼핏 보면 그냥 코미디 이렇게 무해한 파티 처음이지?, 만감이 교차하는 새벽 2시경 술잔과 감정이 소용돌이쳐, 왜들 그리 다운돼있어? 뭐가 문제야 say something, 분위기가 겁나 싸해 요새는 이런 게 유행인가, 왜들 그리 재미없어? 아 그건 나도 마찬가지, Tell me what I got to do 급한 대로 블루투스 켜, 아무 노래나 일단 틀어 아무거나 신나는 걸로, 아무렇게나 춤춰 아무렇지 않아 보이게, 아무 생각 하기 싫어 아무개로 살래 잠시, I'm sick and tired of my every day, keep it up 한 곡 더, 아무 노래나 일단, La-la-la, la-la-la, la-la-la-la, La-la-la, la-la-la, la-la-la-la (You ain't gonna get a day like this), 아무 노래 아무 노래 아무 노래나 틀어봐, 아무 노래 아무 노래 아무 노래나 틀어봐 (Yeah), 아무 노래 (ooh) 아무 노래 아무 노래나 틀어봐, 아무 노래 아무 노래 아무 노래나 KOZ, \"]\n",
            "--------------------------------------------------\n",
            "찾으려는 단어를 입력하세요 : 아무 노래\n",
            "'아무 노래'(은/는) 17 번 언급됨.\n"
          ],
          "name": "stdout"
        }
      ]
    },
    {
      "cell_type": "code",
      "metadata": {
        "colab": {
          "base_uri": "https://localhost:8080/"
        },
        "id": "J9y6ZQ0Ogu7O",
        "outputId": "2975207c-8c09-46c2-a5c5-e7d423468a22"
      },
      "source": [
        "lst=[10, 20, 30]\n",
        "lst"
      ],
      "execution_count": 69,
      "outputs": [
        {
          "output_type": "execute_result",
          "data": {
            "text/plain": [
              "[10, 20, 30]"
            ]
          },
          "metadata": {
            "tags": []
          },
          "execution_count": 69
        }
      ]
    },
    {
      "cell_type": "code",
      "metadata": {
        "colab": {
          "base_uri": "https://localhost:8080/"
        },
        "id": "gdrugT88hkFL",
        "outputId": "3872e6c9-5e92-4c20-e5f8-1b2185ce809d"
      },
      "source": [
        "lst[:]      "
      ],
      "execution_count": 70,
      "outputs": [
        {
          "output_type": "execute_result",
          "data": {
            "text/plain": [
              "[10, 20, 30]"
            ]
          },
          "metadata": {
            "tags": []
          },
          "execution_count": 70
        }
      ]
    },
    {
      "cell_type": "code",
      "metadata": {
        "id": "JwiHbqVmiMBL"
      },
      "source": [
        "lst1 = [10, 20]\n",
        "lst2 = [100, 200]"
      ],
      "execution_count": 71,
      "outputs": []
    },
    {
      "cell_type": "code",
      "metadata": {
        "colab": {
          "base_uri": "https://localhost:8080/"
        },
        "id": "Po7r-TKAiUib",
        "outputId": "c9bbb29e-aad3-42c0-9b08-413dcab20d5a"
      },
      "source": [
        "lst1 + lst2"
      ],
      "execution_count": 72,
      "outputs": [
        {
          "output_type": "execute_result",
          "data": {
            "text/plain": [
              "[10, 20, 100, 200]"
            ]
          },
          "metadata": {
            "tags": []
          },
          "execution_count": 72
        }
      ]
    },
    {
      "cell_type": "code",
      "metadata": {
        "colab": {
          "base_uri": "https://localhost:8080/"
        },
        "id": "_ZR3aZeniV-b",
        "outputId": "1595c406-fc42-414e-cdc1-df1f6705de1a"
      },
      "source": [
        "lst1*3"
      ],
      "execution_count": 75,
      "outputs": [
        {
          "output_type": "execute_result",
          "data": {
            "text/plain": [
              "[10, 20, 10, 20, 10, 20]"
            ]
          },
          "metadata": {
            "tags": []
          },
          "execution_count": 75
        }
      ]
    },
    {
      "cell_type": "code",
      "metadata": {
        "id": "RFg-KAHhijDr"
      },
      "source": [
        "lst = ['a', 'b', 'c']\n"
      ],
      "execution_count": 77,
      "outputs": []
    },
    {
      "cell_type": "code",
      "metadata": {
        "id": "2mN4RWLYivIq"
      },
      "source": [
        "lst.append('d')"
      ],
      "execution_count": 80,
      "outputs": []
    },
    {
      "cell_type": "code",
      "metadata": {
        "colab": {
          "base_uri": "https://localhost:8080/",
          "height": 36
        },
        "id": "IkKqkkiSi5Hb",
        "outputId": "af68d8e4-aad8-4835-d941-a106b53fe9f6"
      },
      "source": [
        "lst.pop()"
      ],
      "execution_count": 81,
      "outputs": [
        {
          "output_type": "execute_result",
          "data": {
            "application/vnd.google.colaboratory.intrinsic+json": {
              "type": "string"
            },
            "text/plain": [
              "'d'"
            ]
          },
          "metadata": {
            "tags": []
          },
          "execution_count": 81
        }
      ]
    },
    {
      "cell_type": "code",
      "metadata": {
        "id": "iJu737_VjEOr"
      },
      "source": [
        "lst[0] = 'e'"
      ],
      "execution_count": 83,
      "outputs": []
    },
    {
      "cell_type": "code",
      "metadata": {
        "colab": {
          "base_uri": "https://localhost:8080/"
        },
        "id": "SK__ruN4jHxq",
        "outputId": "37712fdd-4b9e-4378-8cde-a140652b695f"
      },
      "source": [
        "lst"
      ],
      "execution_count": 84,
      "outputs": [
        {
          "output_type": "execute_result",
          "data": {
            "text/plain": [
              "['e', 'b', 'c', 'd', 'd']"
            ]
          },
          "metadata": {
            "tags": []
          },
          "execution_count": 84
        }
      ]
    },
    {
      "cell_type": "code",
      "metadata": {
        "colab": {
          "base_uri": "https://localhost:8080/"
        },
        "id": "hhWwTu5CjNhr",
        "outputId": "e6bcfad6-21c3-40db-800b-b7fa32e922f2"
      },
      "source": [
        "lst.index('c')"
      ],
      "execution_count": 85,
      "outputs": [
        {
          "output_type": "execute_result",
          "data": {
            "text/plain": [
              "2"
            ]
          },
          "metadata": {
            "tags": []
          },
          "execution_count": 85
        }
      ]
    },
    {
      "cell_type": "code",
      "metadata": {
        "colab": {
          "base_uri": "https://localhost:8080/",
          "height": 36
        },
        "id": "C9125sP7jZQL",
        "outputId": "797010dc-66e1-44d1-a348-29ed7209050c"
      },
      "source": [
        "lst[2]"
      ],
      "execution_count": 86,
      "outputs": [
        {
          "output_type": "execute_result",
          "data": {
            "application/vnd.google.colaboratory.intrinsic+json": {
              "type": "string"
            },
            "text/plain": [
              "'c'"
            ]
          },
          "metadata": {
            "tags": []
          },
          "execution_count": 86
        }
      ]
    },
    {
      "cell_type": "code",
      "metadata": {
        "colab": {
          "base_uri": "https://localhost:8080/"
        },
        "id": "CQcZdfsJjcxq",
        "outputId": "f3172caf-45c5-4b24-cfe0-4dbdea8a0af5"
      },
      "source": [
        "lst.count('c')"
      ],
      "execution_count": 88,
      "outputs": [
        {
          "output_type": "execute_result",
          "data": {
            "text/plain": [
              "1"
            ]
          },
          "metadata": {
            "tags": []
          },
          "execution_count": 88
        }
      ]
    },
    {
      "cell_type": "code",
      "metadata": {
        "id": "-i72ACFEjh0L"
      },
      "source": [
        "lst.append('a')"
      ],
      "execution_count": 89,
      "outputs": []
    },
    {
      "cell_type": "code",
      "metadata": {
        "colab": {
          "base_uri": "https://localhost:8080/",
          "height": 36
        },
        "id": "f8l6vaDajo-L",
        "outputId": "c442723a-63d0-4f7c-ccd1-697ef895e5ce"
      },
      "source": [
        "lst.pop()"
      ],
      "execution_count": 90,
      "outputs": [
        {
          "output_type": "execute_result",
          "data": {
            "application/vnd.google.colaboratory.intrinsic+json": {
              "type": "string"
            },
            "text/plain": [
              "'a'"
            ]
          },
          "metadata": {
            "tags": []
          },
          "execution_count": 90
        }
      ]
    },
    {
      "cell_type": "code",
      "metadata": {
        "id": "Y-jMwUsUj0WK"
      },
      "source": [
        "lst.sort()"
      ],
      "execution_count": 91,
      "outputs": []
    },
    {
      "cell_type": "code",
      "metadata": {
        "colab": {
          "base_uri": "https://localhost:8080/"
        },
        "id": "ffltD651j8Xb",
        "outputId": "065c62e0-991c-40ab-b93d-229155df4198"
      },
      "source": [
        "lst"
      ],
      "execution_count": 92,
      "outputs": [
        {
          "output_type": "execute_result",
          "data": {
            "text/plain": [
              "['b', 'c', 'd', 'd', 'e']"
            ]
          },
          "metadata": {
            "tags": []
          },
          "execution_count": 92
        }
      ]
    },
    {
      "cell_type": "code",
      "metadata": {
        "id": "UevxnoxwkS-K"
      },
      "source": [
        "lst.sort(reverse=True)"
      ],
      "execution_count": 93,
      "outputs": []
    },
    {
      "cell_type": "code",
      "metadata": {
        "colab": {
          "base_uri": "https://localhost:8080/"
        },
        "id": "t5nErMkNkY26",
        "outputId": "94be1c55-ce20-40e9-d3c6-2709d88a7328"
      },
      "source": [
        "lst"
      ],
      "execution_count": 94,
      "outputs": [
        {
          "output_type": "execute_result",
          "data": {
            "text/plain": [
              "['e', 'd', 'd', 'c', 'b']"
            ]
          },
          "metadata": {
            "tags": []
          },
          "execution_count": 94
        }
      ]
    },
    {
      "cell_type": "code",
      "metadata": {
        "id": "CknzC8C_kaOZ"
      },
      "source": [
        ""
      ],
      "execution_count": null,
      "outputs": []
    }
  ]
}